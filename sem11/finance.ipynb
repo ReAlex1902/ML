{
  "nbformat": 4,
  "nbformat_minor": 0,
  "metadata": {
    "kernelspec": {
      "display_name": "Python 3",
      "language": "python",
      "name": "python3"
    },
    "language_info": {
      "codemirror_mode": {
        "name": "ipython",
        "version": 3
      },
      "file_extension": ".py",
      "mimetype": "text/x-python",
      "name": "python",
      "nbconvert_exporter": "python",
      "pygments_lexer": "ipython3",
      "version": "3.7.3"
    },
    "colab": {
      "name": "finance.ipynb",
      "provenance": [],
      "collapsed_sections": [],
      "include_colab_link": true
    }
  },
  "cells": [
    {
      "cell_type": "markdown",
      "metadata": {
        "id": "view-in-github",
        "colab_type": "text"
      },
      "source": [
        "<a href=\"https://colab.research.google.com/github/ReAlex1902/ML/blob/master/sem11/finance.ipynb\" target=\"_parent\"><img src=\"https://colab.research.google.com/assets/colab-badge.svg\" alt=\"Open In Colab\"/></a>"
      ]
    },
    {
      "cell_type": "code",
      "metadata": {
        "id": "L1wZ2_dm_4b6"
      },
      "source": [
        "import requests\n",
        "#подключаем бибилиотеку BeautifulSoup\n",
        "from bs4 import BeautifulSoup\n",
        "import pandas as pd\n",
        "#содаём таблицу по опционам на акции APPLE\n",
        "options_data=pd.DataFrame()"
      ],
      "execution_count": 1,
      "outputs": []
    },
    {
      "cell_type": "code",
      "metadata": {
        "id": "ScCS05lp_4b6"
      },
      "source": [
        "#функция, добавляющая директорию в адресную строку\n",
        "def find_href(item):\n",
        "    item2=str(item.find_all('a')[0]).split(' ')\n",
        "    item3=item2[len(item2)-1]\n",
        "    item4=item3[6:(len(item3))]\n",
        "    i=item4.find('\"')\n",
        "    item5=item4[0:i]\n",
        "    return(item5)"
      ],
      "execution_count": 2,
      "outputs": []
    },
    {
      "cell_type": "code",
      "metadata": {
        "id": "YG3bMab6_4b7"
      },
      "source": [
        "#номер строк\n",
        "#с внешнего сайта считываем колонки Contract Name, Last Trade Date, Strike, Bid, Ask\n",
        "N=10\n",
        "url = 'https://finance.yahoo.com/quote/AAPL/options?p=AAPL'\n",
        "r = requests.get(url).text\n",
        "soup = BeautifulSoup(r, 'html.parser')\n",
        "url1='https://finance.yahoo.com/'\n",
        "url2=[]\n",
        "name=[]\n",
        "strike=[]\n",
        "date=[]\n",
        "bid=[]\n",
        "ask=[]\n",
        "csv_file=[]\n",
        "for i in range(N):\n",
        "    f=[]\n",
        "    item=soup.find_all(class_='data-col0')[i]\n",
        "    add_href=find_href(item=item)\n",
        "    url2.append(url1+add_href)\n",
        "    n=soup.find_all(class_='data-col0')[i].get_text()\n",
        "    dt=soup.find_all(class_='data-col1')[i].get_text()[0:10]\n",
        "    strk=float(soup.find_all(class_='data-col2')[i].get_text())\n",
        "    bd=float(soup.find_all(class_='data-col4')[i].get_text())\n",
        "    ak=float(soup.find_all(class_='data-col5')[i].get_text())\n",
        "    name.append(n)\n",
        "    date.append(dt)\n",
        "    strike.append(strk)\n",
        "    bid.append(bd)\n",
        "    ask.append(ak)\n",
        "    f.append(n)\n",
        "    f.append(dt)\n",
        "    f.append(strk)\n",
        "    f.append(bd)\n",
        "    f.append(ak)\n",
        "    csv_file.append(f)    "
      ],
      "execution_count": 3,
      "outputs": []
    },
    {
      "cell_type": "code",
      "metadata": {
        "id": "-RzLvDxa_4b7"
      },
      "source": [
        "#с внутреннего сайта считываем колонку Previous Close\n",
        "pr_cl=[]\n",
        "for i in range(N):\n",
        "    url=url2[i]\n",
        "    r = requests.get(url).text\n",
        "    soup = BeautifulSoup(r, 'html.parser')\n",
        "    pr_cl.append(soup.find_all(class_='Trsdu(0.3s)')[0].get_text())"
      ],
      "execution_count": 4,
      "outputs": []
    },
    {
      "cell_type": "code",
      "metadata": {
        "id": "sjnL2ese_4b7"
      },
      "source": [
        "options_data['opt id']=name\n",
        "options_data['date']=date\n",
        "options_data['last close']=pr_cl\n",
        "options_data['strike']=strike\n",
        "options_data['bid']=bid\n",
        "options_data['ask']=ask\n",
        "for i in range(N):\n",
        "    csv_file[i].append(pr_cl[i])"
      ],
      "execution_count": 5,
      "outputs": []
    },
    {
      "cell_type": "code",
      "metadata": {
        "colab": {
          "base_uri": "https://localhost:8080/",
          "height": 357
        },
        "id": "Iu0ZOD0C_4b7",
        "outputId": "e89b0fd6-eeb5-40cf-dc34-ecec38d6098d"
      },
      "source": [
        "options_data"
      ],
      "execution_count": 6,
      "outputs": [
        {
          "output_type": "execute_result",
          "data": {
            "text/html": [
              "<div>\n",
              "<style scoped>\n",
              "    .dataframe tbody tr th:only-of-type {\n",
              "        vertical-align: middle;\n",
              "    }\n",
              "\n",
              "    .dataframe tbody tr th {\n",
              "        vertical-align: top;\n",
              "    }\n",
              "\n",
              "    .dataframe thead th {\n",
              "        text-align: right;\n",
              "    }\n",
              "</style>\n",
              "<table border=\"1\" class=\"dataframe\">\n",
              "  <thead>\n",
              "    <tr style=\"text-align: right;\">\n",
              "      <th></th>\n",
              "      <th>opt id</th>\n",
              "      <th>date</th>\n",
              "      <th>last close</th>\n",
              "      <th>strike</th>\n",
              "      <th>bid</th>\n",
              "      <th>ask</th>\n",
              "    </tr>\n",
              "  </thead>\n",
              "  <tbody>\n",
              "    <tr>\n",
              "      <th>0</th>\n",
              "      <td>AAPL201127C00055000</td>\n",
              "      <td>2020-11-20</td>\n",
              "      <td>3,557.54</td>\n",
              "      <td>55.0</td>\n",
              "      <td>62.00</td>\n",
              "      <td>62.65</td>\n",
              "    </tr>\n",
              "    <tr>\n",
              "      <th>1</th>\n",
              "      <td>AAPL201127C00060000</td>\n",
              "      <td>2020-11-20</td>\n",
              "      <td>3,557.54</td>\n",
              "      <td>60.0</td>\n",
              "      <td>57.00</td>\n",
              "      <td>57.65</td>\n",
              "    </tr>\n",
              "    <tr>\n",
              "      <th>2</th>\n",
              "      <td>AAPL201127C00065000</td>\n",
              "      <td>2020-11-18</td>\n",
              "      <td>3,557.54</td>\n",
              "      <td>65.0</td>\n",
              "      <td>52.00</td>\n",
              "      <td>52.65</td>\n",
              "    </tr>\n",
              "    <tr>\n",
              "      <th>3</th>\n",
              "      <td>AAPL201127C00070000</td>\n",
              "      <td>2020-11-12</td>\n",
              "      <td>3,557.54</td>\n",
              "      <td>70.0</td>\n",
              "      <td>47.25</td>\n",
              "      <td>47.40</td>\n",
              "    </tr>\n",
              "    <tr>\n",
              "      <th>4</th>\n",
              "      <td>AAPL201127C00075000</td>\n",
              "      <td>2020-11-19</td>\n",
              "      <td>3,557.54</td>\n",
              "      <td>75.0</td>\n",
              "      <td>42.30</td>\n",
              "      <td>42.40</td>\n",
              "    </tr>\n",
              "    <tr>\n",
              "      <th>5</th>\n",
              "      <td>AAPL201127C00080000</td>\n",
              "      <td>2020-11-20</td>\n",
              "      <td>3,557.54</td>\n",
              "      <td>80.0</td>\n",
              "      <td>37.25</td>\n",
              "      <td>37.40</td>\n",
              "    </tr>\n",
              "    <tr>\n",
              "      <th>6</th>\n",
              "      <td>AAPL201127C00085000</td>\n",
              "      <td>2020-11-20</td>\n",
              "      <td>3,557.54</td>\n",
              "      <td>85.0</td>\n",
              "      <td>32.30</td>\n",
              "      <td>32.40</td>\n",
              "    </tr>\n",
              "    <tr>\n",
              "      <th>7</th>\n",
              "      <td>AAPL201127C00090000</td>\n",
              "      <td>2020-11-20</td>\n",
              "      <td>3,557.54</td>\n",
              "      <td>90.0</td>\n",
              "      <td>27.30</td>\n",
              "      <td>27.45</td>\n",
              "    </tr>\n",
              "    <tr>\n",
              "      <th>8</th>\n",
              "      <td>AAPL201127C00095000</td>\n",
              "      <td>2020-11-20</td>\n",
              "      <td>3,557.54</td>\n",
              "      <td>95.0</td>\n",
              "      <td>22.30</td>\n",
              "      <td>22.45</td>\n",
              "    </tr>\n",
              "    <tr>\n",
              "      <th>9</th>\n",
              "      <td>AAPL201127C00096000</td>\n",
              "      <td>2020-11-20</td>\n",
              "      <td>3,557.54</td>\n",
              "      <td>96.0</td>\n",
              "      <td>21.25</td>\n",
              "      <td>21.45</td>\n",
              "    </tr>\n",
              "  </tbody>\n",
              "</table>\n",
              "</div>"
            ],
            "text/plain": [
              "                opt id        date last close  strike    bid    ask\n",
              "0  AAPL201127C00055000  2020-11-20   3,557.54    55.0  62.00  62.65\n",
              "1  AAPL201127C00060000  2020-11-20   3,557.54    60.0  57.00  57.65\n",
              "2  AAPL201127C00065000  2020-11-18   3,557.54    65.0  52.00  52.65\n",
              "3  AAPL201127C00070000  2020-11-12   3,557.54    70.0  47.25  47.40\n",
              "4  AAPL201127C00075000  2020-11-19   3,557.54    75.0  42.30  42.40\n",
              "5  AAPL201127C00080000  2020-11-20   3,557.54    80.0  37.25  37.40\n",
              "6  AAPL201127C00085000  2020-11-20   3,557.54    85.0  32.30  32.40\n",
              "7  AAPL201127C00090000  2020-11-20   3,557.54    90.0  27.30  27.45\n",
              "8  AAPL201127C00095000  2020-11-20   3,557.54    95.0  22.30  22.45\n",
              "9  AAPL201127C00096000  2020-11-20   3,557.54    96.0  21.25  21.45"
            ]
          },
          "metadata": {
            "tags": []
          },
          "execution_count": 6
        }
      ]
    },
    {
      "cell_type": "code",
      "metadata": {
        "id": "6EuPPaHj_4b9"
      },
      "source": [
        "#экспортируем данные в CSV файл\n",
        "import os as oss\n",
        "# oss.chdir('C:/Users/User/Desktop/Анализ данных/ЛР5')\n",
        "#открываем файл на запись\n",
        "with open('options.csv', 'w') as ouf:\n",
        "        #перебираем элементы списка d\n",
        "        for i in csv_file:\n",
        "            #преобразуем элемент списка в строку\n",
        "            i=str(i)\n",
        "            #очищаем строку от ненужных символов\n",
        "            i=i.replace(\"\\'\", \"\")\n",
        "            i=i.replace(\"[\", \"\")\n",
        "            i=i.replace(\"]\", \"\")\n",
        "            #записываем строку в файл\n",
        "            ouf.write(i + '\\n')"
      ],
      "execution_count": 8,
      "outputs": []
    },
    {
      "cell_type": "code",
      "metadata": {
        "id": "sNRlPKDIA3Py"
      },
      "source": [
        ""
      ],
      "execution_count": null,
      "outputs": []
    }
  ]
}