{
  "nbformat": 4,
  "nbformat_minor": 0,
  "metadata": {
    "kernelspec": {
      "display_name": "Python 3",
      "language": "python",
      "name": "python3"
    },
    "language_info": {
      "codemirror_mode": {
        "name": "ipython",
        "version": 3
      },
      "file_extension": ".py",
      "mimetype": "text/x-python",
      "name": "python",
      "nbconvert_exporter": "python",
      "pygments_lexer": "ipython3",
      "version": "3.7.1"
    },
    "colab": {
      "name": "news (1).ipynb",
      "provenance": [],
      "collapsed_sections": [],
      "include_colab_link": true
    }
  },
  "cells": [
    {
      "cell_type": "markdown",
      "metadata": {
        "id": "view-in-github",
        "colab_type": "text"
      },
      "source": [
        "<a href=\"https://colab.research.google.com/github/ReAlex1902/ML/blob/master/sem10/news_(1).ipynb\" target=\"_parent\"><img src=\"https://colab.research.google.com/assets/colab-badge.svg\" alt=\"Open In Colab\"/></a>"
      ]
    },
    {
      "cell_type": "code",
      "metadata": {
        "id": "Lg2DZlU9_NYI"
      },
      "source": [
        "import numpy as np\n",
        "import matplotlib.pyplot as plt\n",
        "import numpy as np\n",
        "from sklearn.datasets import load_files\n",
        "from sklearn.feature_extraction.text import CountVectorizer\n",
        "from sklearn.linear_model import LogisticRegression\n",
        "import os"
      ],
      "execution_count": 1,
      "outputs": []
    },
    {
      "cell_type": "code",
      "metadata": {
        "id": "eEI2ucrb_NYt",
        "outputId": "7e2c65d9-6568-4b2e-a7ac-4cf983b662ee",
        "colab": {
          "base_uri": "https://localhost:8080/"
        }
      },
      "source": [
        "from io import BytesIO\n",
        "import requests\n",
        "import tarfile\n",
        "\n",
        "url = \"http://ai.stanford.edu/~amaas/data/sentiment/aclImdb_v1.tar.gz\"\n",
        "\n",
        "def load_imdb_dataset(extract_path=\"\", overwrite=False):\n",
        "    #check if existed already\n",
        "    if os.path.isfile(os.path.join(extract_path, \"aclImdb\", \"README\")) and not overwrite:\n",
        "        print(\"IMDB dataset is already in place.\")\n",
        "        return\n",
        "    \n",
        "    print(\"Downloading the dataset from:  \", url)\n",
        "    response = requests.get(url)\n",
        "    \n",
        "    tar = tarfile.open(mode= \"r:gz\", fileobj = BytesIO(response.content))\n",
        "    \n",
        "    data = tar.extractall(extract_path)\n",
        "    \n",
        "load_imdb_dataset()"
      ],
      "execution_count": 2,
      "outputs": [
        {
          "output_type": "stream",
          "text": [
            "IMDB dataset is already in place.\n"
          ],
          "name": "stdout"
        }
      ]
    },
    {
      "cell_type": "code",
      "metadata": {
        "id": "t13H99fB_NY-"
      },
      "source": [
        "#change if you have it in alternative location\n",
        "PATH_TO_IMDB = \"aclImdb\"\n",
        "\n",
        "reviews_train = load_files(os.path.join(PATH_TO_IMDB, \"train\"),\n",
        "                           categories=['pos', 'neg'])\n",
        "text_train, y_train = reviews_train.data, reviews_train.target\n",
        "\n",
        "reviews_test = load_files(os.path.join(PATH_TO_IMDB, \"test\"),\n",
        "                          categories=['pos', 'neg'])\n",
        "text_test, y_test = reviews_test.data, reviews_test.target"
      ],
      "execution_count": 3,
      "outputs": []
    },
    {
      "cell_type": "code",
      "metadata": {
        "id": "zzB9esh3_NZP",
        "outputId": "9518f0bc-9cb2-4643-fc95-00db5b328739",
        "colab": {
          "base_uri": "https://localhost:8080/"
        }
      },
      "source": [
        "print ( \"Количество документов в обучающих данных: % d \"  %  len ( text_train )) \n",
        "print ( np . bincount ( y_train )) \n",
        "print ( \"Количество документов в тестовых данных: % d \"  %  len ( text_test )) \n",
        "print ( np . bincount ( y_test ))"
      ],
      "execution_count": 4,
      "outputs": [
        {
          "output_type": "stream",
          "text": [
            "Количество документов в обучающих данных:  25000 \n",
            "[12500 12500]\n",
            "Количество документов в тестовых данных:  25000 \n",
            "[12500 12500]\n"
          ],
          "name": "stdout"
        }
      ]
    },
    {
      "cell_type": "code",
      "metadata": {
        "id": "Zxo95OdZ_NZc",
        "outputId": "eefffdcd-4d9b-40a3-fe1b-34f2f0eaddec",
        "colab": {
          "base_uri": "https://localhost:8080/"
        }
      },
      "source": [
        "print(text_train[1])"
      ],
      "execution_count": 5,
      "outputs": [
        {
          "output_type": "stream",
          "text": [
            "b'Words can\\'t describe how bad this movie is. I can\\'t explain it by writing only. You have too see it for yourself to get at grip of how horrible a movie really can be. Not that I recommend you to do that. There are so many clich\\xc3\\xa9s, mistakes (and all other negative things you can imagine) here that will just make you cry. To start with the technical first, there are a LOT of mistakes regarding the airplane. I won\\'t list them here, but just mention the coloring of the plane. They didn\\'t even manage to show an airliner in the colors of a fictional airline, but instead used a 747 painted in the original Boeing livery. Very bad. The plot is stupid and has been done many times before, only much, much better. There are so many ridiculous moments here that i lost count of it really early. Also, I was on the bad guys\\' side all the time in the movie, because the good guys were so stupid. \"Executive Decision\" should without a doubt be you\\'re choice over this one, even the \"Turbulence\"-movies are better. In fact, every other movie in the world is better than this one.'\n"
          ],
          "name": "stdout"
        }
      ]
    },
    {
      "cell_type": "code",
      "metadata": {
        "id": "881S40lt_NZo",
        "outputId": "ebf3a93e-8e52-4df5-ba5d-5a074c927a86",
        "colab": {
          "base_uri": "https://localhost:8080/"
        }
      },
      "source": [
        "y_train[1] # bad review"
      ],
      "execution_count": 6,
      "outputs": [
        {
          "output_type": "execute_result",
          "data": {
            "text/plain": [
              "0"
            ]
          },
          "metadata": {
            "tags": []
          },
          "execution_count": 6
        }
      ]
    },
    {
      "cell_type": "code",
      "metadata": {
        "id": "1hzjUxV__NZ1",
        "outputId": "7d3a13ef-c435-49d6-e93e-8e71b2de0f2c",
        "colab": {
          "base_uri": "https://localhost:8080/"
        }
      },
      "source": [
        "print(text_train[4])"
      ],
      "execution_count": 7,
      "outputs": [
        {
          "output_type": "stream",
          "text": [
            "b'I\\'ve just had the evidence that confirmed my suspicions. A bunch of kids, 14 to 22 put on the DVD of \"Titanic\" on a fantastic state of the art mega screen home entertainment type deal. Only two of them had actually seen it before. But they all had seen the moment of Kate, Leo and Celine Dion so many times that most of them felt they had seen the whole movie. Shortly after the epic started, they started to get restless, some of them left asking the others -- \"call us when the iceberg appears\" Over an hour and a half into the movie, only the two girls who had seen the movie before, were still there. They started shouting: iceberg, iceberg. A stampede followed, they all came back to see the sinking of the Titanic. They sat open mouthed, emitting Ohs and far outs. So, just like I thought when the movie first burst into the scene. What is this? One and a half hours waiting for the bloody thing to sink but what about the rest of the of it. Dr. Zivagho, for instance, had a similar running time, but think how much takes place in that film within the same period of time. In \"Titanic\" Leo teaches Kate how to spit. Look at the faces and hands of the, supposedly, creme de la creme in the first class dining room of the ship. Look at the historical details, if you can find them. The storyline is so thin that they have to introduce guns and shootings in a ship that is about to sink. The real sinking here is of film standards. All the efforts are focus on special effects and opening week ends. The film went on to become the highest grossing movie of all time so, what do I know?'\n"
          ],
          "name": "stdout"
        }
      ]
    },
    {
      "cell_type": "code",
      "metadata": {
        "id": "Tt7qUAxT_NaA",
        "outputId": "065a41a9-d56c-4897-fb32-717707e0050b",
        "colab": {
          "base_uri": "https://localhost:8080/"
        }
      },
      "source": [
        "y_train[2] # good review"
      ],
      "execution_count": 8,
      "outputs": [
        {
          "output_type": "execute_result",
          "data": {
            "text/plain": [
              "1"
            ]
          },
          "metadata": {
            "tags": []
          },
          "execution_count": 8
        }
      ]
    },
    {
      "cell_type": "code",
      "metadata": {
        "id": "OkpKu3DG_NaL",
        "outputId": "d26c5374-0894-4459-a24b-67976dcc4df4",
        "colab": {
          "base_uri": "https://localhost:8080/"
        }
      },
      "source": [
        "cv = CountVectorizer()\n",
        "cv.fit(text_train)\n",
        "\n",
        "len(cv.vocabulary_)"
      ],
      "execution_count": 9,
      "outputs": [
        {
          "output_type": "execute_result",
          "data": {
            "text/plain": [
              "74849"
            ]
          },
          "metadata": {
            "tags": []
          },
          "execution_count": 9
        }
      ]
    },
    {
      "cell_type": "code",
      "metadata": {
        "id": "jCEwBFTt_NaR",
        "outputId": "9462396a-a182-4dea-8238-335e13606515",
        "colab": {
          "base_uri": "https://localhost:8080/"
        }
      },
      "source": [
        "X_train = cv.transform(text_train)\n",
        "X_train"
      ],
      "execution_count": 10,
      "outputs": [
        {
          "output_type": "execute_result",
          "data": {
            "text/plain": [
              "<25000x74849 sparse matrix of type '<class 'numpy.int64'>'\n",
              "\twith 3445861 stored elements in Compressed Sparse Row format>"
            ]
          },
          "metadata": {
            "tags": []
          },
          "execution_count": 10
        }
      ]
    },
    {
      "cell_type": "code",
      "metadata": {
        "id": "WriNORQb_NaW",
        "outputId": "d194e61b-689c-4f4c-e3f1-fc585ccda093",
        "colab": {
          "base_uri": "https://localhost:8080/"
        }
      },
      "source": [
        "print(text_train[193])"
      ],
      "execution_count": 11,
      "outputs": [
        {
          "output_type": "stream",
          "text": [
            "b\"Okay, if you've seen The Ring, you've basically seen The Grudge. It's trying to be scary by just having freaky camera work and loud sounds, but it fails miserably. The plot, if you can call it that, is weak and rather full of holes, for instance, how would the care center have known that Yoko didn't show up for work when the people who lived in the house were not there? And it's not really clear what Bill Pullman's character had to do with anything. He just kind of came out of nowhere to advance the plot. It didn't make a lot of sense what happened to the original family. Who was hanging in the room, the little boy or the dad? And was Yoko alive or dead when the care center guy found her? There were too many unanswered questions and I was too bored to think about it more.\"\n"
          ],
          "name": "stdout"
        }
      ]
    },
    {
      "cell_type": "code",
      "metadata": {
        "id": "Qu5ZFFT__Naa",
        "outputId": "80df1f59-d01c-48e6-ff3f-454662cbc91b",
        "colab": {
          "base_uri": "https://localhost:8080/"
        }
      },
      "source": [
        "X_train[193].nonzero()[1]"
      ],
      "execution_count": 12,
      "outputs": [
        {
          "output_type": "execute_result",
          "data": {
            "text/plain": [
              "array([ 1277,  1922,  2656,  3258,  3718,  6144,  6334,  7330,  8491,\n",
              "        8701,  9881,  9962, 10204, 10270, 10279, 10357, 10637, 11332,\n",
              "       11615, 12750, 16258, 16746, 18303, 19326, 23564, 23690, 25450,\n",
              "       25715, 25944, 26307, 28888, 29233, 29369, 29722, 29774, 30118,\n",
              "       30131, 30211, 30646, 31312, 31819, 31858, 32517, 33004, 33883,\n",
              "       34585, 34683, 35787, 36608, 36924, 39044, 39057, 39486, 39506,\n",
              "       40421, 40829, 43080, 43838, 46050, 46156, 46680, 46803, 47142,\n",
              "       47274, 47449, 49147, 50428, 52493, 52961, 53602, 53839, 55881,\n",
              "       56383, 57836, 58613, 58812, 59873, 61841, 66322, 66339, 66432,\n",
              "       66526, 67125, 67324, 68412, 69057, 70331, 70920, 72196, 72366,\n",
              "       72601, 72703, 72753, 72904, 73342, 73616, 73714, 74280, 74324],\n",
              "      dtype=int32)"
            ]
          },
          "metadata": {
            "tags": []
          },
          "execution_count": 12
        }
      ]
    },
    {
      "cell_type": "code",
      "metadata": {
        "id": "l6N8dAME_Nae",
        "outputId": "feeac875-97d9-4099-ce0b-5749c2a98d45",
        "colab": {
          "base_uri": "https://localhost:8080/"
        }
      },
      "source": [
        "X_train[193].nonzero()"
      ],
      "execution_count": 13,
      "outputs": [
        {
          "output_type": "execute_result",
          "data": {
            "text/plain": [
              "(array([0, 0, 0, 0, 0, 0, 0, 0, 0, 0, 0, 0, 0, 0, 0, 0, 0, 0, 0, 0, 0, 0,\n",
              "        0, 0, 0, 0, 0, 0, 0, 0, 0, 0, 0, 0, 0, 0, 0, 0, 0, 0, 0, 0, 0, 0,\n",
              "        0, 0, 0, 0, 0, 0, 0, 0, 0, 0, 0, 0, 0, 0, 0, 0, 0, 0, 0, 0, 0, 0,\n",
              "        0, 0, 0, 0, 0, 0, 0, 0, 0, 0, 0, 0, 0, 0, 0, 0, 0, 0, 0, 0, 0, 0,\n",
              "        0, 0, 0, 0, 0, 0, 0, 0, 0, 0, 0], dtype=int32),\n",
              " array([ 1277,  1922,  2656,  3258,  3718,  6144,  6334,  7330,  8491,\n",
              "         8701,  9881,  9962, 10204, 10270, 10279, 10357, 10637, 11332,\n",
              "        11615, 12750, 16258, 16746, 18303, 19326, 23564, 23690, 25450,\n",
              "        25715, 25944, 26307, 28888, 29233, 29369, 29722, 29774, 30118,\n",
              "        30131, 30211, 30646, 31312, 31819, 31858, 32517, 33004, 33883,\n",
              "        34585, 34683, 35787, 36608, 36924, 39044, 39057, 39486, 39506,\n",
              "        40421, 40829, 43080, 43838, 46050, 46156, 46680, 46803, 47142,\n",
              "        47274, 47449, 49147, 50428, 52493, 52961, 53602, 53839, 55881,\n",
              "        56383, 57836, 58613, 58812, 59873, 61841, 66322, 66339, 66432,\n",
              "        66526, 67125, 67324, 68412, 69057, 70331, 70920, 72196, 72366,\n",
              "        72601, 72703, 72753, 72904, 73342, 73616, 73714, 74280, 74324],\n",
              "       dtype=int32))"
            ]
          },
          "metadata": {
            "tags": []
          },
          "execution_count": 13
        }
      ]
    },
    {
      "cell_type": "code",
      "metadata": {
        "id": "6Fyosjxn_Naj"
      },
      "source": [
        "X_test = cv.transform(text_test)"
      ],
      "execution_count": 14,
      "outputs": []
    },
    {
      "cell_type": "code",
      "metadata": {
        "id": "3iMDgJpz_Nan",
        "outputId": "4440cc3e-873a-4111-bb79-120bc94407c9",
        "colab": {
          "base_uri": "https://localhost:8080/"
        }
      },
      "source": [
        "%%time\n",
        "logit = LogisticRegression(solver='lbfgs', n_jobs=-1, random_state=7)\n",
        "logit.fit(X_train, y_train)"
      ],
      "execution_count": 15,
      "outputs": [
        {
          "output_type": "stream",
          "text": [
            "CPU times: user 55.7 ms, sys: 99.8 ms, total: 155 ms\n",
            "Wall time: 4.39 s\n"
          ],
          "name": "stdout"
        }
      ]
    },
    {
      "cell_type": "code",
      "metadata": {
        "id": "rYf7s8BJ_Naq",
        "outputId": "683c3a5c-5bb9-457b-b9b2-d7050a0d3d8d",
        "colab": {
          "base_uri": "https://localhost:8080/"
        }
      },
      "source": [
        "round(logit.score(X_train, y_train), 3), round(logit.score(X_test, y_test), 3),"
      ],
      "execution_count": 16,
      "outputs": [
        {
          "output_type": "execute_result",
          "data": {
            "text/plain": [
              "(0.981, 0.864)"
            ]
          },
          "metadata": {
            "tags": []
          },
          "execution_count": 16
        }
      ]
    },
    {
      "cell_type": "code",
      "metadata": {
        "id": "yF5UJfxF_Nat"
      },
      "source": [
        "def visualize_coefficients(classifier, feature_names, n_top_features=25):\n",
        "    # get coefficients with large absolute values \n",
        "    coef = classifier.coef_.ravel()\n",
        "    positive_coefficients = np.argsort(coef)[-n_top_features:]\n",
        "    negative_coefficients = np.argsort(coef)[:n_top_features]\n",
        "    interesting_coefficients = np.hstack([negative_coefficients, positive_coefficients])\n",
        "    # plot them\n",
        "    plt.figure(figsize=(15, 5))\n",
        "    colors = [\"red\" if c < 0 else \"blue\" for c in coef[interesting_coefficients]]\n",
        "    plt.bar(np.arange(2 * n_top_features), coef[interesting_coefficients], color=colors)\n",
        "    feature_names = np.array(feature_names)\n",
        "    plt.xticks(np.arange(1, 1 + 2 * n_top_features), feature_names[interesting_coefficients], rotation=60, ha=\"right\");"
      ],
      "execution_count": 17,
      "outputs": []
    },
    {
      "cell_type": "code",
      "metadata": {
        "id": "9AnyctRb_Naw"
      },
      "source": [
        "def plot_grid_scores(grid, param_name):\n",
        "    plt.plot(grid.param_grid[param_name], grid.cv_results_['mean_train_score'],\n",
        "        color='green', label='train')\n",
        "    plt.plot(grid.param_grid[param_name], grid.cv_results_['mean_test_score'],\n",
        "        color='red', label='test')\n",
        "    plt.legend();"
      ],
      "execution_count": 18,
      "outputs": []
    },
    {
      "cell_type": "code",
      "metadata": {
        "id": "DgRvDrLV_Naz",
        "outputId": "eb18355c-4a4d-4777-cd22-1c36cb7542e7",
        "colab": {
          "base_uri": "https://localhost:8080/",
          "height": 382
        }
      },
      "source": [
        "visualize_coefficients(logit, cv.get_feature_names())"
      ],
      "execution_count": 19,
      "outputs": [
        {
          "output_type": "display_data",
          "data": {
            "image/png": "[encoded data removed]",
            "text/plain": [
              "<Figure size 1080x360 with 1 Axes>"
            ]
          },
          "metadata": {
            "tags": [],
            "needs_background": "light"
          }
        }
      ]
    },
    {
      "cell_type": "code",
      "metadata": {
        "id": "euz2tvkc_Na4",
        "outputId": "f3610463-9fda-42d5-826d-8c9108a88c9e",
        "colab": {
          "base_uri": "https://localhost:8080/"
        }
      },
      "source": [
        "from sklearn.pipeline import make_pipeline\n",
        "\n",
        "text_pipe_logit = make_pipeline(CountVectorizer(),\n",
        "                                # for some reason n_jobs > 1 won't work \n",
        "                                # with GridSearchCV's n_jobs > 1\n",
        "                                LogisticRegression(solver='lbfgs', \n",
        "                                                   n_jobs=1,\n",
        "                                                   random_state=7))\n",
        "\n",
        "text_pipe_logit.fit(text_train, y_train)\n",
        "print(text_pipe_logit.score(text_test, y_test))"
      ],
      "execution_count": 20,
      "outputs": [
        {
          "output_type": "stream",
          "text": [
            "/usr/local/lib/python3.6/dist-packages/sklearn/linear_model/_logistic.py:940: ConvergenceWarning: lbfgs failed to converge (status=1):\n",
            "STOP: TOTAL NO. of ITERATIONS REACHED LIMIT.\n",
            "\n",
            "Increase the number of iterations (max_iter) or scale the data as shown in:\n",
            "    https://scikit-learn.org/stable/modules/preprocessing.html\n",
            "Please also refer to the documentation for alternative solver options:\n",
            "    https://scikit-learn.org/stable/modules/linear_model.html#logistic-regression\n",
            "  extra_warning_msg=_LOGISTIC_SOLVER_CONVERGENCE_MSG)\n"
          ],
          "name": "stderr"
        },
        {
          "output_type": "stream",
          "text": [
            "0.8642\n"
          ],
          "name": "stdout"
        }
      ]
    },
    {
      "cell_type": "code",
      "metadata": {
        "id": "BM4oGppg_Na8",
        "outputId": "deec1128-c96e-45a5-e055-bb3b7251586f",
        "colab": {
          "base_uri": "https://localhost:8080/"
        }
      },
      "source": [
        "%%time\n",
        "from sklearn.model_selection import GridSearchCV\n",
        "\n",
        "param_grid_logit = {'logisticregression__C': np.logspace(-5, 0, 6)}\n",
        "grid_logit = GridSearchCV(text_pipe_logit, \n",
        "                          param_grid_logit, \n",
        "                          return_train_score=True, \n",
        "                          cv=3, n_jobs=-1)\n",
        "\n",
        "grid_logit.fit(text_train, y_train)"
      ],
      "execution_count": 21,
      "outputs": [
        {
          "output_type": "stream",
          "text": [
            "CPU times: user 13 s, sys: 3.47 s, total: 16.4 s\n",
            "Wall time: 2min 26s\n"
          ],
          "name": "stdout"
        },
        {
          "output_type": "stream",
          "text": [
            "/usr/local/lib/python3.6/dist-packages/sklearn/linear_model/_logistic.py:940: ConvergenceWarning: lbfgs failed to converge (status=1):\n",
            "STOP: TOTAL NO. of ITERATIONS REACHED LIMIT.\n",
            "\n",
            "Increase the number of iterations (max_iter) or scale the data as shown in:\n",
            "    https://scikit-learn.org/stable/modules/preprocessing.html\n",
            "Please also refer to the documentation for alternative solver options:\n",
            "    https://scikit-learn.org/stable/modules/linear_model.html#logistic-regression\n",
            "  extra_warning_msg=_LOGISTIC_SOLVER_CONVERGENCE_MSG)\n"
          ],
          "name": "stderr"
        }
      ]
    },
    {
      "cell_type": "code",
      "metadata": {
        "id": "rp7F-rHs_Na_",
        "outputId": "f42ca6fd-7a84-4edb-c231-a5d623cc1c4a",
        "colab": {
          "base_uri": "https://localhost:8080/"
        }
      },
      "source": [
        "grid_logit.best_params_, grid_logit.best_score_"
      ],
      "execution_count": 22,
      "outputs": [
        {
          "output_type": "execute_result",
          "data": {
            "text/plain": [
              "({'logisticregression__C': 0.1}, 0.8855599340364303)"
            ]
          },
          "metadata": {
            "tags": []
          },
          "execution_count": 22
        }
      ]
    },
    {
      "cell_type": "code",
      "metadata": {
        "id": "8p_a4o8b_NbC",
        "outputId": "4cb8de50-b5cb-42ca-bdd5-755470b4f820",
        "colab": {
          "base_uri": "https://localhost:8080/",
          "height": 265
        }
      },
      "source": [
        "plot_grid_scores(grid_logit, 'logisticregression__C')"
      ],
      "execution_count": 23,
      "outputs": [
        {
          "output_type": "display_data",
          "data": {
            "image/png": "[encoded data removed]",
            "text/plain": [
              "<Figure size 432x288 with 1 Axes>"
            ]
          },
          "metadata": {
            "tags": [],
            "needs_background": "light"
          }
        }
      ]
    },
    {
      "cell_type": "code",
      "metadata": {
        "id": "W2WrqIyo_NbF",
        "outputId": "1e625dc8-2427-472e-ff3c-184a6ac23642",
        "colab": {
          "base_uri": "https://localhost:8080/"
        }
      },
      "source": [
        "grid_logit.score(text_test, y_test)"
      ],
      "execution_count": 24,
      "outputs": [
        {
          "output_type": "execute_result",
          "data": {
            "text/plain": [
              "0.87812"
            ]
          },
          "metadata": {
            "tags": []
          },
          "execution_count": 24
        }
      ]
    },
    {
      "cell_type": "markdown",
      "metadata": {
        "id": "LNmst13mIoF2"
      },
      "source": [
        "# SVM"
      ]
    },
    {
      "cell_type": "code",
      "metadata": {
        "id": "183uLxW9_NbJ",
        "outputId": "45d78ed3-8298-4573-ec44-c0aa8356791f",
        "colab": {
          "base_uri": "https://localhost:8080/"
        }
      },
      "source": [
        "from sklearn.svm import SVC\n",
        "from sklearn.model_selection import GridSearchCV\n",
        "svm = SVC()\n",
        "svm.fit(X_train, y_train)\n",
        "# params = {\n",
        "    # 'C': [0.001, 0.01, 0.1, 1]\n",
        "# }\n",
        "# best_svm = GridSearchCV(svm, params, verbose = True)\n",
        "# best_svm.fit(X_train, y_train)"
      ],
      "execution_count": 25,
      "outputs": [
        {
          "output_type": "execute_result",
          "data": {
            "text/plain": [
              "SVC(C=1.0, break_ties=False, cache_size=200, class_weight=None, coef0=0.0,\n",
              "    decision_function_shape='ovr', degree=3, gamma='scale', kernel='rbf',\n",
              "    max_iter=-1, probability=False, random_state=None, shrinking=True,\n",
              "    tol=0.001, verbose=False)"
            ]
          },
          "metadata": {
            "tags": []
          },
          "execution_count": 25
        }
      ]
    },
    {
      "cell_type": "code",
      "metadata": {
        "id": "PI7LQt99I8TS",
        "outputId": "39fde5fe-22c1-4232-f097-29fd888976c2",
        "colab": {
          "base_uri": "https://localhost:8080/"
        }
      },
      "source": [
        "from sklearn.metrics import accuracy_score as acc, f1_score as f1\n",
        "preds = svm.predict(X_test)\n",
        "print(f'Acc = {acc(preds, y_test)}')\n",
        "print(f'F1 = {f1(preds, y_test)}')"
      ],
      "execution_count": 26,
      "outputs": [
        {
          "output_type": "stream",
          "text": [
            "Acc = 0.86204\n",
            "F1 = 0.8634978430363716\n"
          ],
          "name": "stdout"
        }
      ]
    },
    {
      "cell_type": "markdown",
      "metadata": {
        "id": "P-p4aywCiygU"
      },
      "source": [
        "# Random Forest"
      ]
    },
    {
      "cell_type": "code",
      "metadata": {
        "id": "Id8kKXUlZAqO",
        "outputId": "bee9a174-a5ca-4aa6-fc7f-18632fb2e477",
        "colab": {
          "base_uri": "https://localhost:8080/"
        }
      },
      "source": [
        "from sklearn.ensemble import RandomForestClassifier\n",
        "rf = RandomForestClassifier()\n",
        "rf.fit(X_train, y_train)"
      ],
      "execution_count": 33,
      "outputs": [
        {
          "output_type": "execute_result",
          "data": {
            "text/plain": [
              "RandomForestClassifier(bootstrap=True, ccp_alpha=0.0, class_weight=None,\n",
              "                       criterion='gini', max_depth=None, max_features='auto',\n",
              "                       max_leaf_nodes=None, max_samples=None,\n",
              "                       min_impurity_decrease=0.0, min_impurity_split=None,\n",
              "                       min_samples_leaf=1, min_samples_split=2,\n",
              "                       min_weight_fraction_leaf=0.0, n_estimators=100,\n",
              "                       n_jobs=None, oob_score=False, random_state=None,\n",
              "                       verbose=0, warm_start=False)"
            ]
          },
          "metadata": {
            "tags": []
          },
          "execution_count": 33
        }
      ]
    },
    {
      "cell_type": "code",
      "metadata": {
        "id": "aMd6ezdHaC9A",
        "outputId": "24093295-69dd-4c20-950d-9eafd41156b6",
        "colab": {
          "base_uri": "https://localhost:8080/"
        }
      },
      "source": [
        "preds = rf.predict(X_test)\n",
        "print(f'Acc = {acc(preds, y_test)}')\n",
        "print(f'F1 = {f1(preds, y_test)}')"
      ],
      "execution_count": 34,
      "outputs": [
        {
          "output_type": "stream",
          "text": [
            "Acc = 0.84488\n",
            "F1 = 0.8441819350691097\n"
          ],
          "name": "stdout"
        }
      ]
    },
    {
      "cell_type": "markdown",
      "metadata": {
        "id": "3p9-hSAcJlV8"
      },
      "source": [
        "Вывод: как и ожидалось, линейная модель метода опорных веторов показала лучший результат, нежели случайный лес вследствие линейности исходных данных"
      ]
    },
    {
      "cell_type": "code",
      "metadata": {
        "id": "f2vysu4JbTE4"
      },
      "source": [
        ""
      ],
      "execution_count": 34,
      "outputs": []
    }
  ]
}