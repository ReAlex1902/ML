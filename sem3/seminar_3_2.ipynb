{
  "nbformat": 4,
  "nbformat_minor": 0,
  "metadata": {
    "colab": {
      "name": "seminar_3_2.ipynb",
      "provenance": [],
      "collapsed_sections": [
        "gd-Smroe04CD"
      ],
      "authorship_tag": "ABX9TyMy3YIZEOuLxjDW9BIa89Kp",
      "include_colab_link": true
    },
    "kernelspec": {
      "name": "python3",
      "display_name": "Python 3"
    }
  },
  "cells": [
    {
      "cell_type": "markdown",
      "metadata": {
        "id": "view-in-github",
        "colab_type": "text"
      },
      "source": [
        "<a href=\"https://colab.research.google.com/github/ReAlex1902/ML/blob/master/sem3/seminar_3_2.ipynb\" target=\"_parent\"><img src=\"https://colab.research.google.com/assets/colab-badge.svg\" alt=\"Open In Colab\"/></a>"
      ]
    },
    {
      "cell_type": "code",
      "metadata": {
        "id": "LNfJeA0hwDyW",
        "outputId": "116541b3-28d2-4e56-dfbc-47f3472903fa",
        "colab": {
          "base_uri": "https://localhost:8080/",
          "height": 35
        }
      },
      "source": [
        "from google.colab import drive\n",
        "drive.mount('/content/gdrive')"
      ],
      "execution_count": 1,
      "outputs": [
        {
          "output_type": "stream",
          "text": [
            "Mounted at /content/gdrive\n"
          ],
          "name": "stdout"
        }
      ]
    },
    {
      "cell_type": "code",
      "metadata": {
        "id": "LVBrIYpKwqFM",
        "outputId": "a9f5b315-e943-43bf-b76c-0abe169c6de7",
        "colab": {
          "base_uri": "https://localhost:8080/",
          "height": 203
        }
      },
      "source": [
        "# /content/gdrive/Shared drives/DigitalHome I UnlimitedDisc 3/Alex/datasets/ML/SBER_101001_171001.txt\n",
        "\n",
        "import numpy as np\n",
        "import pandas as pd\n",
        "import matplotlib.pyplot as plt\n",
        "\n",
        "mvid = pd.read_csv('/content/gdrive/Shared drives/DigitalHome I UnlimitedDisc 3/Alex/datasets/ML/SBER_101001_171001.txt')\n",
        "sber = pd.read_csv('/content/gdrive/Shared drives/DigitalHome I UnlimitedDisc 3/Alex/datasets/ML/SBER_101001_171001.txt')\n",
        "\n",
        "sber.head()"
      ],
      "execution_count": 2,
      "outputs": [
        {
          "output_type": "execute_result",
          "data": {
            "text/html": [
              "<div>\n",
              "<style scoped>\n",
              "    .dataframe tbody tr th:only-of-type {\n",
              "        vertical-align: middle;\n",
              "    }\n",
              "\n",
              "    .dataframe tbody tr th {\n",
              "        vertical-align: top;\n",
              "    }\n",
              "\n",
              "    .dataframe thead th {\n",
              "        text-align: right;\n",
              "    }\n",
              "</style>\n",
              "<table border=\"1\" class=\"dataframe\">\n",
              "  <thead>\n",
              "    <tr style=\"text-align: right;\">\n",
              "      <th></th>\n",
              "      <th>&lt;TICKER&gt;</th>\n",
              "      <th>&lt;PER&gt;</th>\n",
              "      <th>&lt;DATE&gt;</th>\n",
              "      <th>&lt;TIME&gt;</th>\n",
              "      <th>&lt;CLOSE&gt;</th>\n",
              "      <th>&lt;VOL&gt;</th>\n",
              "    </tr>\n",
              "  </thead>\n",
              "  <tbody>\n",
              "    <tr>\n",
              "      <th>0</th>\n",
              "      <td>SBER</td>\n",
              "      <td>D</td>\n",
              "      <td>20101001</td>\n",
              "      <td>0</td>\n",
              "      <td>89.09</td>\n",
              "      <td>332429890</td>\n",
              "    </tr>\n",
              "    <tr>\n",
              "      <th>1</th>\n",
              "      <td>SBER</td>\n",
              "      <td>D</td>\n",
              "      <td>20101004</td>\n",
              "      <td>0</td>\n",
              "      <td>89.88</td>\n",
              "      <td>194032721</td>\n",
              "    </tr>\n",
              "    <tr>\n",
              "      <th>2</th>\n",
              "      <td>SBER</td>\n",
              "      <td>D</td>\n",
              "      <td>20101005</td>\n",
              "      <td>0</td>\n",
              "      <td>91.97</td>\n",
              "      <td>198775753</td>\n",
              "    </tr>\n",
              "    <tr>\n",
              "      <th>3</th>\n",
              "      <td>SBER</td>\n",
              "      <td>D</td>\n",
              "      <td>20101006</td>\n",
              "      <td>0</td>\n",
              "      <td>91.20</td>\n",
              "      <td>210406027</td>\n",
              "    </tr>\n",
              "    <tr>\n",
              "      <th>4</th>\n",
              "      <td>SBER</td>\n",
              "      <td>D</td>\n",
              "      <td>20101007</td>\n",
              "      <td>0</td>\n",
              "      <td>90.40</td>\n",
              "      <td>145137617</td>\n",
              "    </tr>\n",
              "  </tbody>\n",
              "</table>\n",
              "</div>"
            ],
            "text/plain": [
              "  <TICKER> <PER>    <DATE>  <TIME>  <CLOSE>      <VOL>\n",
              "0     SBER     D  20101001       0    89.09  332429890\n",
              "1     SBER     D  20101004       0    89.88  194032721\n",
              "2     SBER     D  20101005       0    91.97  198775753\n",
              "3     SBER     D  20101006       0    91.20  210406027\n",
              "4     SBER     D  20101007       0    90.40  145137617"
            ]
          },
          "metadata": {
            "tags": []
          },
          "execution_count": 2
        }
      ]
    },
    {
      "cell_type": "code",
      "metadata": {
        "id": "HktXEpLUxIbI",
        "outputId": "8af68fa5-12af-4437-d22d-542547091f3c",
        "colab": {
          "base_uri": "https://localhost:8080/",
          "height": 203
        }
      },
      "source": [
        "res = pd.merge(sber, mvid, on = '<DATE>')\n",
        "res.head()"
      ],
      "execution_count": 3,
      "outputs": [
        {
          "output_type": "execute_result",
          "data": {
            "text/html": [
              "<div>\n",
              "<style scoped>\n",
              "    .dataframe tbody tr th:only-of-type {\n",
              "        vertical-align: middle;\n",
              "    }\n",
              "\n",
              "    .dataframe tbody tr th {\n",
              "        vertical-align: top;\n",
              "    }\n",
              "\n",
              "    .dataframe thead th {\n",
              "        text-align: right;\n",
              "    }\n",
              "</style>\n",
              "<table border=\"1\" class=\"dataframe\">\n",
              "  <thead>\n",
              "    <tr style=\"text-align: right;\">\n",
              "      <th></th>\n",
              "      <th>&lt;TICKER&gt;_x</th>\n",
              "      <th>&lt;PER&gt;_x</th>\n",
              "      <th>&lt;DATE&gt;</th>\n",
              "      <th>&lt;TIME&gt;_x</th>\n",
              "      <th>&lt;CLOSE&gt;_x</th>\n",
              "      <th>&lt;VOL&gt;_x</th>\n",
              "      <th>&lt;TICKER&gt;_y</th>\n",
              "      <th>&lt;PER&gt;_y</th>\n",
              "      <th>&lt;TIME&gt;_y</th>\n",
              "      <th>&lt;CLOSE&gt;_y</th>\n",
              "      <th>&lt;VOL&gt;_y</th>\n",
              "    </tr>\n",
              "  </thead>\n",
              "  <tbody>\n",
              "    <tr>\n",
              "      <th>0</th>\n",
              "      <td>SBER</td>\n",
              "      <td>D</td>\n",
              "      <td>20101001</td>\n",
              "      <td>0</td>\n",
              "      <td>89.09</td>\n",
              "      <td>332429890</td>\n",
              "      <td>SBER</td>\n",
              "      <td>D</td>\n",
              "      <td>0</td>\n",
              "      <td>89.09</td>\n",
              "      <td>332429890</td>\n",
              "    </tr>\n",
              "    <tr>\n",
              "      <th>1</th>\n",
              "      <td>SBER</td>\n",
              "      <td>D</td>\n",
              "      <td>20101004</td>\n",
              "      <td>0</td>\n",
              "      <td>89.88</td>\n",
              "      <td>194032721</td>\n",
              "      <td>SBER</td>\n",
              "      <td>D</td>\n",
              "      <td>0</td>\n",
              "      <td>89.88</td>\n",
              "      <td>194032721</td>\n",
              "    </tr>\n",
              "    <tr>\n",
              "      <th>2</th>\n",
              "      <td>SBER</td>\n",
              "      <td>D</td>\n",
              "      <td>20101005</td>\n",
              "      <td>0</td>\n",
              "      <td>91.97</td>\n",
              "      <td>198775753</td>\n",
              "      <td>SBER</td>\n",
              "      <td>D</td>\n",
              "      <td>0</td>\n",
              "      <td>91.97</td>\n",
              "      <td>198775753</td>\n",
              "    </tr>\n",
              "    <tr>\n",
              "      <th>3</th>\n",
              "      <td>SBER</td>\n",
              "      <td>D</td>\n",
              "      <td>20101006</td>\n",
              "      <td>0</td>\n",
              "      <td>91.20</td>\n",
              "      <td>210406027</td>\n",
              "      <td>SBER</td>\n",
              "      <td>D</td>\n",
              "      <td>0</td>\n",
              "      <td>91.20</td>\n",
              "      <td>210406027</td>\n",
              "    </tr>\n",
              "    <tr>\n",
              "      <th>4</th>\n",
              "      <td>SBER</td>\n",
              "      <td>D</td>\n",
              "      <td>20101007</td>\n",
              "      <td>0</td>\n",
              "      <td>90.40</td>\n",
              "      <td>145137617</td>\n",
              "      <td>SBER</td>\n",
              "      <td>D</td>\n",
              "      <td>0</td>\n",
              "      <td>90.40</td>\n",
              "      <td>145137617</td>\n",
              "    </tr>\n",
              "  </tbody>\n",
              "</table>\n",
              "</div>"
            ],
            "text/plain": [
              "  <TICKER>_x <PER>_x    <DATE>  ...  <TIME>_y  <CLOSE>_y    <VOL>_y\n",
              "0       SBER       D  20101001  ...         0      89.09  332429890\n",
              "1       SBER       D  20101004  ...         0      89.88  194032721\n",
              "2       SBER       D  20101005  ...         0      91.97  198775753\n",
              "3       SBER       D  20101006  ...         0      91.20  210406027\n",
              "4       SBER       D  20101007  ...         0      90.40  145137617\n",
              "\n",
              "[5 rows x 11 columns]"
            ]
          },
          "metadata": {
            "tags": []
          },
          "execution_count": 3
        }
      ]
    },
    {
      "cell_type": "code",
      "metadata": {
        "id": "LwTdIH3jxNjk"
      },
      "source": [
        "x = res['<CLOSE>_x']\n",
        "y = res['<CLOSE>_y']"
      ],
      "execution_count": 4,
      "outputs": []
    },
    {
      "cell_type": "code",
      "metadata": {
        "id": "Ov5bfACgxXrs",
        "outputId": "48d32534-accd-4286-c21a-4e1340c89b50",
        "colab": {
          "base_uri": "https://localhost:8080/",
          "height": 268
        }
      },
      "source": [
        "plt.figure()\n",
        "plt.scatter(x, y)\n",
        "plt.show()"
      ],
      "execution_count": 5,
      "outputs": [
        {
          "output_type": "display_data",
          "data": {
            "image/png": "[encoded data removed]",
            "text/plain": [
              "<Figure size 432x288 with 1 Axes>"
            ]
          },
          "metadata": {
            "tags": [],
            "needs_background": "light"
          }
        }
      ]
    },
    {
      "cell_type": "code",
      "metadata": {
        "id": "tcwce9cBxmXA"
      },
      "source": [
        "class hypothesis(object):\n",
        "    '''Модель парной линейной регрессии&quot'''\n",
        "    def __init__(self):\n",
        "        self.b0 = 0\n",
        "        self.b1 = 0\n",
        "\n",
        "    def predict(self, x):\n",
        "        return self.b0 + self.b1 * x\n",
        "\n",
        "    def error(self, X, Y):\n",
        "        return sum((self.predict(X) - Y)**2) / (2 * len(X))\n",
        "\n",
        "    def BGD(self, X, Y, alpha = 0.00005):\n",
        "        dJ0 = sum(self.predict(X) - Y) /len(X)\n",
        "        dJ1 = sum((self.predict(X) - Y) * X) /len(X)\n",
        "        self.b0 -= alpha * dJ0\n",
        "        self.b1 -= alpha * dJ1"
      ],
      "execution_count": 6,
      "outputs": []
    },
    {
      "cell_type": "code",
      "metadata": {
        "id": "Xn05PUTVySCS",
        "outputId": "b37ee9a4-521e-4ce7-cfe3-f036148d87d0",
        "colab": {
          "base_uri": "https://localhost:8080/",
          "height": 70
        }
      },
      "source": [
        "hyp = hypothesis()\n",
        "print(hyp.predict(0))\n",
        "print(hyp.predict(100))\n",
        "J = hyp.error(x, y)\n",
        "print(\"initial error: \", J)"
      ],
      "execution_count": 7,
      "outputs": [
        {
          "output_type": "stream",
          "text": [
            "0\n",
            "0\n",
            "initial error:  5769.919997525599\n"
          ],
          "name": "stdout"
        }
      ]
    },
    {
      "cell_type": "code",
      "metadata": {
        "id": "SV9lEQ8KyX3s",
        "outputId": "f85fb7b2-6be9-4d65-fe60-2e7fd6fbb2b1",
        "colab": {
          "base_uri": "https://localhost:8080/",
          "height": 266
        }
      },
      "source": [
        "X0 = np.linspace(60, 180, 100)\n",
        "Y0 = hyp.predict(X0)\n",
        "plt.figure()\n",
        "plt.scatter(x, y)\n",
        "plt.plot(X0, Y0, 'r')\n",
        "plt.show()"
      ],
      "execution_count": 8,
      "outputs": [
        {
          "output_type": "display_data",
          "data": {
            "image/png": "[encoded data removed]",
            "text/plain": [
              "<Figure size 432x288 with 1 Axes>"
            ]
          },
          "metadata": {
            "tags": [],
            "needs_background": "light"
          }
        }
      ]
    },
    {
      "cell_type": "code",
      "metadata": {
        "id": "Qxucjyvcyoog",
        "outputId": "48a69e2e-b5f7-433f-f3a8-f5f8702c4d86",
        "colab": {
          "base_uri": "https://localhost:8080/",
          "height": 35
        }
      },
      "source": [
        "hyp.BGD(x, y)\n",
        "J = hyp.error(x, y)\n",
        "print('error after gradient descent: ', J)"
      ],
      "execution_count": 9,
      "outputs": [
        {
          "output_type": "stream",
          "text": [
            "error after gradient descent:  1032.2201388241642\n"
          ],
          "name": "stdout"
        }
      ]
    },
    {
      "cell_type": "code",
      "metadata": {
        "id": "QQleJxBdyvbo",
        "outputId": "17029327-8856-4f71-fa63-4e3fc61e9950",
        "colab": {
          "base_uri": "https://localhost:8080/",
          "height": 267
        }
      },
      "source": [
        "X0 = np.linspace(60, 180, 100)\n",
        "Y0 = hyp.predict(X0)\n",
        "plt.figure()\n",
        "plt.scatter(x, y)\n",
        "plt.plot(X0, Y0, 'r')\n",
        "plt.show()"
      ],
      "execution_count": 10,
      "outputs": [
        {
          "output_type": "display_data",
          "data": {
            "image/png": "[encoded data removed]",
            "text/plain": [
              "<Figure size 432x288 with 1 Axes>"
            ]
          },
          "metadata": {
            "tags": [],
            "needs_background": "light"
          }
        }
      ]
    },
    {
      "cell_type": "code",
      "metadata": {
        "id": "hoD0f6xRzEy5"
      },
      "source": [
        "class hypothesis(object):\n",
        "    '''Модель парной линейной регрессии&quot'''\n",
        "    def __init__(self):\n",
        "        self.b0 = 0\n",
        "        self.b1 = 0\n",
        "\n",
        "    def predict(self, x):\n",
        "        return self.b0 + self.b1 * x\n",
        "\n",
        "    def error(self, X, Y):\n",
        "        return sum((self.predict(X) - Y)**2) / (2 * len(X))\n",
        "\n",
        "    def BGD(self, X, Y, alpha=0.000005, accuracy=0.01):\n",
        "        steps, errors = [], []\n",
        "        step = 0\n",
        "        old_err = hyp.error(X, Y)\n",
        "        new_err = hyp.error(X, Y) - 1\n",
        "        dJ = 1\n",
        "        \n",
        "        while dJ > accuracy:\n",
        "            dJ0 = sum(self.predict(X) - Y) /len(X)\n",
        "            dJ1 = sum((self.predict(X) - Y) * X) /len(X)\n",
        "            self.b0 -= alpha * dJ0\n",
        "            self.b1 -= alpha * dJ1\n",
        "            old_err = new_err\n",
        "            new_err = hyp.error(X, Y)\n",
        "            dJ = old_err - new_err\n",
        "            step += 1\n",
        "            steps.append(step)\n",
        "            errors.append(new_err)\n",
        "\n",
        "        return steps, errors"
      ],
      "execution_count": 11,
      "outputs": []
    },
    {
      "cell_type": "code",
      "metadata": {
        "id": "oiXJS3d9zMge",
        "outputId": "ebde5b6f-1a9f-41ef-f083-ec8ec833e6a3",
        "colab": {
          "base_uri": "https://localhost:8080/",
          "height": 35
        }
      },
      "source": [
        "hyp = hypothesis()\n",
        "steps, errors = hyp.BGD(x, y)\n",
        "J = hyp.error(x, y)\n",
        "print('error after gradient descent: ', J)"
      ],
      "execution_count": 12,
      "outputs": [
        {
          "output_type": "stream",
          "text": [
            "error after gradient descent:  0.07191202690737512\n"
          ],
          "name": "stdout"
        }
      ]
    },
    {
      "cell_type": "code",
      "metadata": {
        "id": "51DHsrIEzdTc",
        "outputId": "1ed2ff34-f36c-4e69-94ba-a2e3cf8095d8",
        "colab": {
          "base_uri": "https://localhost:8080/",
          "height": 268
        }
      },
      "source": [
        "X0 = np.linspace(60, 180, 100)\n",
        "Y0 = hyp.predict(X0)\n",
        "plt.figure()\n",
        "plt.scatter(x, y)\n",
        "plt.plot(X0, Y0, 'r')\n",
        "plt.show()"
      ],
      "execution_count": 13,
      "outputs": [
        {
          "output_type": "display_data",
          "data": {
            "image/png": "[encoded data removed]",
            "text/plain": [
              "<Figure size 432x288 with 1 Axes>"
            ]
          },
          "metadata": {
            "tags": [],
            "needs_background": "light"
          }
        }
      ]
    },
    {
      "cell_type": "code",
      "metadata": {
        "id": "ntAPIEv-z4sZ",
        "outputId": "35020b2b-79e2-47d9-d494-577af680910a",
        "colab": {
          "base_uri": "https://localhost:8080/",
          "height": 265
        }
      },
      "source": [
        "plt.figure()\n",
        "plt.plot(steps, errors, 'g')\n",
        "plt.show()"
      ],
      "execution_count": 14,
      "outputs": [
        {
          "output_type": "display_data",
          "data": {
            "image/png": "[encoded data removed]",
            "text/plain": [
              "<Figure size 432x288 with 1 Axes>"
            ]
          },
          "metadata": {
            "tags": [],
            "needs_background": "light"
          }
        }
      ]
    },
    {
      "cell_type": "markdown",
      "metadata": {
        "id": "gd-Smroe04CD"
      },
      "source": [
        "# Контрольные вопросы\n",
        "1) Предсказать стоимость дома имея его параметры \\\n",
        "2) МНК - метод оптимизации алгоритма машинного обучения, в основу которого входит минимизация квадрата разности таргета и предсказанного значения (отсюда и название)\\\n",
        "3) Среднеквадратичная ошибка, средняя абсолютная ошибка, средняя абсолютная процентная ошибка \\\n",
        "4) Конкретное значение среднеквадратической ошибки уакзывает на среднеквадратичное отклонение предсказанного значения \\\n",
        "5) Для того, чтобы отслеживать процесс обучения и избежать ситуаций переобучения и недообучения"
      ]
    },
    {
      "cell_type": "markdown",
      "metadata": {
        "id": "tLyn-b2QZplV"
      },
      "source": [
        "# Дополнительные задания"
      ]
    },
    {
      "cell_type": "code",
      "metadata": {
        "id": "UQKftChCZomS"
      },
      "source": [
        "class hypothesis(object):\n",
        "    '''Модель парной линейной регрессии&quot'''\n",
        "    def __init__(self):\n",
        "        self.b0 = 0\n",
        "        self.b1 = 0\n",
        "\n",
        "    def predict(self, x):\n",
        "        return self.b0 + self.b1 * x\n",
        "\n",
        "    def error(self, X, Y):\n",
        "        return sum((self.predict(X) - Y)**2) / (2 * len(X))\n",
        "\n",
        "    def Adam(self, X, Y, alpha=0.000005, accuracy = 1e-6, batch_size = 64, beta_1 = 0.9, beta_2 = 0.999):\n",
        "        '''\n",
        "        Задание 1: используется адаптивный метод обучения Adam\n",
        "        '''\n",
        "        steps, errors = [], []\n",
        "        step = 0\n",
        "        old_err = hyp.error(X, Y)\n",
        "        new_err = hyp.error(X, Y) - 1\n",
        "        dJ = 1\n",
        "\n",
        "        velocity_0 = 0\n",
        "        velocity_1 = 0\n",
        "        accumulated = 0\n",
        "\n",
        "        indices = len(X)                \n",
        "        indices = np.arange(indices)    ## генерируем индексы для дальнейшего вычисления грудиента по батчу. Задание 3\n",
        "        \n",
        "        while dJ > accuracy:\n",
        "            batch = np.random.choice(indices, batch_size)       ## берем определенный батч по вычисленным индексам\n",
        "            \n",
        "            dJ0 = sum(self.predict(X[batch]) - Y[batch]) /len(X[batch])\n",
        "            dJ1 = sum((self.predict(X[batch]) - Y[batch]) * X[batch]) /len(X[batch])\n",
        "\n",
        "            velocity_0 = beta_1 * velocity_0 - (1 - beta_1) * dJ0              \n",
        "            velocity_1 = beta_1 * velocity_1 - (1 - beta_1) * dJ1\n",
        "            accumulated = beta_2 * accumulated + (1 + beta_2) * dJ ** 2\n",
        "            adaptive_lr = alpha / np.sqrt(accumulated)\n",
        "\n",
        "            self.b0 -= adaptive_lr * dJ0 \n",
        "            self.b1 -= adaptive_lr * dJ1\n",
        "            old_err = new_err\n",
        "            new_err = hyp.error(X, Y)\n",
        "            dJ = old_err - new_err\n",
        "            step += 1\n",
        "            steps.append(step)\n",
        "            errors.append(new_err)\n",
        "\n",
        "            if step % 1000 == 0:\n",
        "                print(f'Epoch: {step // 1000}, Error: {new_err}')\n",
        "\n",
        "        return steps, errors"
      ],
      "execution_count": 17,
      "outputs": []
    },
    {
      "cell_type": "code",
      "metadata": {
        "id": "y5Wgjs3wdbYa",
        "outputId": "9531c087-64be-4ce3-fc7e-ebd0b6a5dee5",
        "colab": {
          "base_uri": "https://localhost:8080/",
          "height": 158
        }
      },
      "source": [
        "hyp = hypothesis()\n",
        "steps, errors = hyp.Adam(x, y)\n",
        "J = hyp.error(x, y)\n",
        "print('error after gradient descent: ', J)"
      ],
      "execution_count": 18,
      "outputs": [
        {
          "output_type": "stream",
          "text": [
            "Epoch: 1, Error: 4113.759258044469\n",
            "Epoch: 2, Error: 2667.5203327869635\n",
            "Epoch: 3, Error: 1349.7002026188295\n",
            "Epoch: 4, Error: 474.29089746766374\n",
            "Epoch: 5, Error: 90.46305944146006\n",
            "Epoch: 6, Error: 6.084092078429435\n",
            "Epoch: 7, Error: 0.07093803157838112\n",
            "error after gradient descent:  0.00012621689155206144\n"
          ],
          "name": "stdout"
        }
      ]
    },
    {
      "cell_type": "code",
      "metadata": {
        "id": "l2dSlQVMdfde",
        "outputId": "ef4f7ab0-1e96-4e93-d062-5d8757fa860a",
        "colab": {
          "base_uri": "https://localhost:8080/",
          "height": 268
        }
      },
      "source": [
        "X0 = np.linspace(60, 180, 100)\n",
        "Y0 = hyp.predict(X0)\n",
        "plt.figure()\n",
        "plt.scatter(x, y)\n",
        "plt.plot(X0, Y0, 'r')\n",
        "plt.show()"
      ],
      "execution_count": 19,
      "outputs": [
        {
          "output_type": "display_data",
          "data": {
            "image/png": "[encoded data removed]",
            "text/plain": [
              "<Figure size 432x288 with 1 Axes>"
            ]
          },
          "metadata": {
            "tags": [],
            "needs_background": "light"
          }
        }
      ]
    },
    {
      "cell_type": "code",
      "metadata": {
        "id": "HuLN70QShXpR",
        "outputId": "d5ab4727-befc-4b88-917e-d84a88ffe35e",
        "colab": {
          "base_uri": "https://localhost:8080/",
          "height": 265
        }
      },
      "source": [
        "plt.figure()\n",
        "plt.plot(steps, errors, 'g')\n",
        "plt.show()"
      ],
      "execution_count": 20,
      "outputs": [
        {
          "output_type": "display_data",
          "data": {
            "image/png": "[encoded data removed]",
            "text/plain": [
              "<Figure size 432x288 with 1 Axes>"
            ]
          },
          "metadata": {
            "tags": [],
            "needs_background": "light"
          }
        }
      ]
    },
    {
      "cell_type": "markdown",
      "metadata": {
        "id": "0PlTZMKIswe0"
      },
      "source": [
        "# Задание 2"
      ]
    },
    {
      "cell_type": "code",
      "metadata": {
        "id": "2GJZdR9PmC6R",
        "outputId": "1303d8f0-1ac3-4f32-d1ff-cc9ec5cc6311",
        "colab": {
          "base_uri": "https://localhost:8080/",
          "height": 203
        }
      },
      "source": [
        "mvid = pd.read_csv('/content/gdrive/Shared drives/DigitalHome I UnlimitedDisc 3/Alex/datasets/ML/YNDX_101001_171001.txt')\n",
        "yndx = pd.read_csv('/content/gdrive/Shared drives/DigitalHome I UnlimitedDisc 3/Alex/datasets/ML/YNDX_101001_171001.txt')\n",
        "\n",
        "res = pd.merge(yndx, mvid, on = '<DATE>')\n",
        "res.head()"
      ],
      "execution_count": 21,
      "outputs": [
        {
          "output_type": "execute_result",
          "data": {
            "text/html": [
              "<div>\n",
              "<style scoped>\n",
              "    .dataframe tbody tr th:only-of-type {\n",
              "        vertical-align: middle;\n",
              "    }\n",
              "\n",
              "    .dataframe tbody tr th {\n",
              "        vertical-align: top;\n",
              "    }\n",
              "\n",
              "    .dataframe thead th {\n",
              "        text-align: right;\n",
              "    }\n",
              "</style>\n",
              "<table border=\"1\" class=\"dataframe\">\n",
              "  <thead>\n",
              "    <tr style=\"text-align: right;\">\n",
              "      <th></th>\n",
              "      <th>&lt;TICKER&gt;_x</th>\n",
              "      <th>&lt;PER&gt;_x</th>\n",
              "      <th>&lt;DATE&gt;</th>\n",
              "      <th>&lt;TIME&gt;_x</th>\n",
              "      <th>&lt;CLOSE&gt;_x</th>\n",
              "      <th>&lt;VOL&gt;_x</th>\n",
              "      <th>&lt;TICKER&gt;_y</th>\n",
              "      <th>&lt;PER&gt;_y</th>\n",
              "      <th>&lt;TIME&gt;_y</th>\n",
              "      <th>&lt;CLOSE&gt;_y</th>\n",
              "      <th>&lt;VOL&gt;_y</th>\n",
              "    </tr>\n",
              "  </thead>\n",
              "  <tbody>\n",
              "    <tr>\n",
              "      <th>0</th>\n",
              "      <td>YNDX</td>\n",
              "      <td>D</td>\n",
              "      <td>20140604</td>\n",
              "      <td>0</td>\n",
              "      <td>1170.0</td>\n",
              "      <td>35146</td>\n",
              "      <td>YNDX</td>\n",
              "      <td>D</td>\n",
              "      <td>0</td>\n",
              "      <td>1170.0</td>\n",
              "      <td>35146</td>\n",
              "    </tr>\n",
              "    <tr>\n",
              "      <th>1</th>\n",
              "      <td>YNDX</td>\n",
              "      <td>D</td>\n",
              "      <td>20140605</td>\n",
              "      <td>0</td>\n",
              "      <td>1145.1</td>\n",
              "      <td>24973</td>\n",
              "      <td>YNDX</td>\n",
              "      <td>D</td>\n",
              "      <td>0</td>\n",
              "      <td>1145.1</td>\n",
              "      <td>24973</td>\n",
              "    </tr>\n",
              "    <tr>\n",
              "      <th>2</th>\n",
              "      <td>YNDX</td>\n",
              "      <td>D</td>\n",
              "      <td>20140606</td>\n",
              "      <td>0</td>\n",
              "      <td>1163.0</td>\n",
              "      <td>7889</td>\n",
              "      <td>YNDX</td>\n",
              "      <td>D</td>\n",
              "      <td>0</td>\n",
              "      <td>1163.0</td>\n",
              "      <td>7889</td>\n",
              "    </tr>\n",
              "    <tr>\n",
              "      <th>3</th>\n",
              "      <td>YNDX</td>\n",
              "      <td>D</td>\n",
              "      <td>20140609</td>\n",
              "      <td>0</td>\n",
              "      <td>1172.1</td>\n",
              "      <td>7304</td>\n",
              "      <td>YNDX</td>\n",
              "      <td>D</td>\n",
              "      <td>0</td>\n",
              "      <td>1172.1</td>\n",
              "      <td>7304</td>\n",
              "    </tr>\n",
              "    <tr>\n",
              "      <th>4</th>\n",
              "      <td>YNDX</td>\n",
              "      <td>D</td>\n",
              "      <td>20140610</td>\n",
              "      <td>0</td>\n",
              "      <td>1170.0</td>\n",
              "      <td>3207</td>\n",
              "      <td>YNDX</td>\n",
              "      <td>D</td>\n",
              "      <td>0</td>\n",
              "      <td>1170.0</td>\n",
              "      <td>3207</td>\n",
              "    </tr>\n",
              "  </tbody>\n",
              "</table>\n",
              "</div>"
            ],
            "text/plain": [
              "  <TICKER>_x <PER>_x    <DATE>  <TIME>_x  ...  <PER>_y  <TIME>_y <CLOSE>_y <VOL>_y\n",
              "0       YNDX       D  20140604         0  ...        D         0    1170.0   35146\n",
              "1       YNDX       D  20140605         0  ...        D         0    1145.1   24973\n",
              "2       YNDX       D  20140606         0  ...        D         0    1163.0    7889\n",
              "3       YNDX       D  20140609         0  ...        D         0    1172.1    7304\n",
              "4       YNDX       D  20140610         0  ...        D         0    1170.0    3207\n",
              "\n",
              "[5 rows x 11 columns]"
            ]
          },
          "metadata": {
            "tags": []
          },
          "execution_count": 21
        }
      ]
    },
    {
      "cell_type": "code",
      "metadata": {
        "id": "5sRtGqHxv4D2",
        "outputId": "66148a63-986f-4143-bce6-33ecbd6a3bed",
        "colab": {
          "base_uri": "https://localhost:8080/",
          "height": 265
        }
      },
      "source": [
        "x = res['<CLOSE>_x']\n",
        "y = res['<CLOSE>_y']\n",
        "\n",
        "plt.figure()\n",
        "plt.scatter(x, y)\n",
        "plt.show()"
      ],
      "execution_count": 22,
      "outputs": [
        {
          "output_type": "display_data",
          "data": {
            "image/png": "[encoded data removed]",
            "text/plain": [
              "<Figure size 432x288 with 1 Axes>"
            ]
          },
          "metadata": {
            "tags": [],
            "needs_background": "light"
          }
        }
      ]
    },
    {
      "cell_type": "code",
      "metadata": {
        "id": "PILF-oR9sZUu",
        "outputId": "2a0f2961-17ce-43b8-de46-f9ccdafef2f8",
        "colab": {
          "base_uri": "https://localhost:8080/",
          "height": 439
        }
      },
      "source": [
        "hyp = hypothesis()\n",
        "steps, errors = hyp.Adam(x, y, alpha = 2e-7)\n",
        "J = hyp.error(x, y)\n",
        "print('error after gradient descent: ', J)"
      ],
      "execution_count": 23,
      "outputs": [
        {
          "output_type": "stream",
          "text": [
            "Epoch: 1, Error: 438669.40567426325\n",
            "Epoch: 2, Error: 437401.141620057\n",
            "Epoch: 3, Error: 435320.1375019705\n",
            "Epoch: 4, Error: 431902.9099037549\n",
            "Epoch: 5, Error: 426322.69086720294\n",
            "Epoch: 6, Error: 417284.05052675464\n",
            "Epoch: 7, Error: 402789.684982887\n",
            "Epoch: 8, Error: 380060.3436878799\n",
            "Epoch: 9, Error: 345868.75268352596\n",
            "Epoch: 10, Error: 299537.27283106087\n",
            "Epoch: 11, Error: 247061.92410068528\n",
            "Epoch: 12, Error: 196535.97512638956\n",
            "Epoch: 13, Error: 151691.26593738972\n",
            "Epoch: 14, Error: 112784.11158833325\n",
            "Epoch: 15, Error: 80052.98027343924\n",
            "Epoch: 16, Error: 53374.43159529718\n",
            "Epoch: 17, Error: 32583.970469830354\n",
            "Epoch: 18, Error: 17432.18207317534\n",
            "Epoch: 19, Error: 7561.082234223128\n",
            "Epoch: 20, Error: 2298.3681741142345\n",
            "Epoch: 21, Error: 363.2703859283998\n",
            "Epoch: 22, Error: 18.223644742359337\n",
            "Epoch: 23, Error: 0.1301053315339895\n",
            "error after gradient descent:  0.00010121538433116284\n"
          ],
          "name": "stdout"
        }
      ]
    },
    {
      "cell_type": "code",
      "metadata": {
        "id": "zMp5Np2XszvO",
        "outputId": "b246b7bd-d952-4794-8cd2-1e0ead352c98",
        "colab": {
          "base_uri": "https://localhost:8080/",
          "height": 265
        }
      },
      "source": [
        "X0 = np.linspace(600, 2000, 100)\n",
        "Y0 = hyp.predict(X0)\n",
        "plt.figure()\n",
        "plt.scatter(x, y)\n",
        "plt.plot(X0, Y0, 'r')\n",
        "plt.show()"
      ],
      "execution_count": 24,
      "outputs": [
        {
          "output_type": "display_data",
          "data": {
            "image/png": "[encoded data removed]",
            "text/plain": [
              "<Figure size 432x288 with 1 Axes>"
            ]
          },
          "metadata": {
            "tags": [],
            "needs_background": "light"
          }
        }
      ]
    },
    {
      "cell_type": "code",
      "metadata": {
        "id": "AbnEqZCzzp3i",
        "outputId": "598af824-71db-41ab-cff0-b27ebb2f273c",
        "colab": {
          "base_uri": "https://localhost:8080/",
          "height": 265
        }
      },
      "source": [
        "plt.figure()\n",
        "plt.plot(steps, errors, 'g')\n",
        "plt.show()"
      ],
      "execution_count": 25,
      "outputs": [
        {
          "output_type": "display_data",
          "data": {
            "image/png": "[encoded data removed]",
            "text/plain": [
              "<Figure size 432x288 with 1 Axes>"
            ]
          },
          "metadata": {
            "tags": [],
            "needs_background": "light"
          }
        }
      ]
    },
    {
      "cell_type": "markdown",
      "metadata": {
        "id": "IpJkyE6CziwH"
      },
      "source": [
        "# Задание 4"
      ]
    },
    {
      "cell_type": "code",
      "metadata": {
        "id": "vOdxTJ8bx-eS",
        "outputId": "fe7802a0-613e-42da-d0c2-d1bc836cadd4",
        "colab": {
          "base_uri": "https://localhost:8080/",
          "height": 35
        }
      },
      "source": [
        "from sklearn.linear_model import LinearRegression\n",
        "\n",
        "model = LinearRegression(normalize = False, n_jobs = -1)\n",
        "model.fit(np.array(x).reshape(-1, 1), y)"
      ],
      "execution_count": 26,
      "outputs": [
        {
          "output_type": "execute_result",
          "data": {
            "text/plain": [
              "LinearRegression(copy_X=True, fit_intercept=True, n_jobs=-1, normalize=False)"
            ]
          },
          "metadata": {
            "tags": []
          },
          "execution_count": 26
        }
      ]
    },
    {
      "cell_type": "code",
      "metadata": {
        "id": "k0gfZPU80UzE",
        "outputId": "96453867-66f7-4615-9aff-136797fb2bb4",
        "colab": {
          "base_uri": "https://localhost:8080/",
          "height": 265
        }
      },
      "source": [
        "X0 = np.linspace(600, 2000, 100)\n",
        "Y0 = model.predict(np.array(X0).reshape(-1, 1))\n",
        "plt.figure()\n",
        "plt.scatter(x, y)\n",
        "plt.plot(X0, Y0, 'r')\n",
        "plt.show()"
      ],
      "execution_count": 27,
      "outputs": [
        {
          "output_type": "display_data",
          "data": {
            "image/png": "[encoded data removed]",
            "text/plain": [
              "<Figure size 432x288 with 1 Axes>"
            ]
          },
          "metadata": {
            "tags": [],
            "needs_background": "light"
          }
        }
      ]
    },
    {
      "cell_type": "markdown",
      "metadata": {
        "id": "VQu8sv9o2kVH"
      },
      "source": [
        "# Вывод\n",
        "Получаем, что наш линейный алгоритм приводит к таким же результатам, что и алгоритм sklearn, однако алгоритм библиотеки работает намного быстрее. Таким образом с точки зрения качества прогнощирования оба алгоритма имеют право на существование, но с точки зрения эффективности по времени алгоритм sklearn лучше"
      ]
    },
    {
      "cell_type": "code",
      "metadata": {
        "id": "VBsJqGOU3Eje"
      },
      "source": [
        ""
      ],
      "execution_count": null,
      "outputs": []
    }
  ]
}