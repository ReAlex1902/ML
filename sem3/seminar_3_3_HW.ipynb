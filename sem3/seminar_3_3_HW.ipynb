{
  "nbformat": 4,
  "nbformat_minor": 0,
  "metadata": {
    "colab": {
      "name": "seminar_3_3_HW.ipynb",
      "provenance": [],
      "collapsed_sections": [],
      "toc_visible": true,
      "include_colab_link": true
    },
    "kernelspec": {
      "display_name": "Python 3",
      "language": "python",
      "name": "python3"
    },
    "language_info": {
      "codemirror_mode": {
        "name": "ipython",
        "version": 3
      },
      "file_extension": ".py",
      "mimetype": "text/x-python",
      "name": "python",
      "nbconvert_exporter": "python",
      "pygments_lexer": "ipython3",
      "version": "3.7.1"
    }
  },
  "cells": [
    {
      "cell_type": "markdown",
      "metadata": {
        "id": "view-in-github",
        "colab_type": "text"
      },
      "source": [
        "<a href=\"https://colab.research.google.com/github/ReAlex1902/ML/blob/master/sem3/seminar_3_3_HW.ipynb\" target=\"_parent\"><img src=\"https://colab.research.google.com/assets/colab-badge.svg\" alt=\"Open In Colab\"/></a>"
      ]
    },
    {
      "cell_type": "markdown",
      "metadata": {
        "id": "sEkVD5qHpP89"
      },
      "source": [
        "---"
      ]
    },
    {
      "cell_type": "markdown",
      "metadata": {
        "id": "Wj5MrpmRpP89"
      },
      "source": [
        "<h3 style=\"text-align: center;\"><b> Градиентный спуск. Линейные модели.</b></h3>"
      ]
    },
    {
      "cell_type": "markdown",
      "metadata": {
        "id": "mTi8pD-2LM3r"
      },
      "source": [
        "В этом ноутбуке попробуйте реализовать свой градиентный спуск на основе модели линейной регрессии и сделайте сравнения "
      ]
    },
    {
      "cell_type": "code",
      "metadata": {
        "id": "0Fu3DXZ01RLE"
      },
      "source": [
        "import numpy as np\n",
        "import pandas as pd\n",
        "from sklearn import datasets, linear_model\n",
        "import scipy.linalg as sla\n",
        "import matplotlib.pyplot as plt\n",
        "%matplotlib inline"
      ],
      "execution_count": 1,
      "outputs": []
    },
    {
      "cell_type": "markdown",
      "metadata": {
        "id": "q4pKjcf4SQEF"
      },
      "source": [
        "### Построение модели"
      ]
    },
    {
      "cell_type": "markdown",
      "metadata": {
        "id": "Ao0ab4nESQEH"
      },
      "source": [
        "Модель нашей линейной решрессии:"
      ]
    },
    {
      "cell_type": "code",
      "metadata": {
        "id": "APZu5Ra7xn6s"
      },
      "source": [
        "# в этих переменных будут лежать веса, которые мы оценим\n",
        "# W - веса модели, на которые умножаются признаки\n",
        "W = None\n",
        "# b - bias, который добавляется к итоговому результату\n",
        "b = None\n",
        "\n",
        "def mse(preds, y):\n",
        "    \"\"\"\n",
        "    Возвращает среднеквадратичную ошибку между preds и y.\n",
        "    \"\"\"\n",
        "    return ((preds - y)**2).mean()\n",
        "\n",
        "def solve_weights(X, y):\n",
        "    \"\"\"\n",
        "    Находит параметры W,b по методу наименьших квадратов для X и y.\n",
        "    Решает систему линейных уравнений, к которым приводит метод наименьших \n",
        "    квадратов, для признаков X и значений y.\n",
        "    \"\"\"\n",
        "    # ключевое слово global позволяет нам использовать глобальные переменные,\n",
        "    # определенные в начале ячейки\n",
        "    global W, b\n",
        "    \n",
        "    \n",
        "    N = X.shape[0]\n",
        "    # добавляем к признакам фиктивную размерность, чтобы было удобнее находить bias\n",
        "    bias = np.ones((N, 1))\n",
        "    X_b = np.append(bias, X, axis=1)\n",
        "    \n",
        "    # используем формулу из метода наименьших квадратов\n",
        "    # W_full сожержит коэффициенты W и b, так как мы добавили фиктивную размерность к признакам\n",
        "    W_full = np.linalg.inv(X_b.T @ X_b) @ X_b.T @ y\n",
        "    \n",
        "    # мы разделяем bias, который лежал в начале вектора W_full, и веса модели W\n",
        "    W = W_full[1:]\n",
        "    b = np.array([W_full[0]])\n",
        "    # нам не нужно возвращать W и b, так как они уже лежат в глобальных переменных\n",
        "    \n",
        "def grad_descent(X, y, lr, num_iter=100):\n",
        "    \"\"\"\n",
        "    Находит приближенные значения параметров модели, используя градиентный спуск.\n",
        "    Функции потерь (ошибки) для данной реализации спуска - сумма квадратов ошибки.\n",
        "    Возвращаемое значение - список значений ффункции потерь на каждом шаге.\n",
        "    \"\"\"\n",
        "    # ключевое слово global позволяет нам использовать глобальные переменные,\n",
        "    # определенные в начале ячейки\n",
        "    global W, b\n",
        "    W = np.random.rand(X.shape[1])\n",
        "    b = np.array(np.random.rand(1))\n",
        "    \n",
        "    losses = []\n",
        "    \n",
        "    N = X.shape[0]\n",
        "    for iter_num in range(num_iter):\n",
        "        preds = predict(X)\n",
        "        losses.append(mse(preds, y))\n",
        "        \n",
        "        w_grad = np.zeros_like(W)\n",
        "        b_grad = 0\n",
        "        for sample, prediction, label in zip(X, preds, y):\n",
        "            w_grad += 2 * (prediction - label) * sample\n",
        "            b_grad += 2 * (prediction - label)\n",
        "            \n",
        "        W -= lr * w_grad\n",
        "        b -= lr * b_grad\n",
        "    return losses\n",
        "\n",
        "def predict(X):\n",
        "    \"\"\"\n",
        "    Предсказывает значения y, используя текущие параметры модели W и b\n",
        "    \"\"\"\n",
        "    global W, b\n",
        "    return np.squeeze(X@W + b.reshape(-1, 1))"
      ],
      "execution_count": 2,
      "outputs": []
    },
    {
      "cell_type": "markdown",
      "metadata": {
        "id": "xWtYzIacBLwi"
      },
      "source": [
        "Подробнее рассмотрим формулы, которые используются в градиентном спуске.\n",
        "Наша функция потерь \n",
        "$$L(\\hat{y}) = \\sum_{i = 1}^{N}( \\hat{y}_{i} - y_{i} )^{2}$$\n",
        "Найдем производную:\n",
        "$$\\frac{dL(\\hat{y})}{d\\hat{y}} = \\sum_{i = 1}^{N}2(\\hat{y}_{i} - y_{i} )$$\n",
        "Где $\\hat{y}$ это вектор предсказаний, а $y$ - вектор значений. Если у нас есть только два признака, то по определению нашей модели:\n",
        "$$\\hat{y}_{i} = W_1 * x_{i1} + W_2 * x_{i2} + b$$\n",
        "\n",
        "Подставим в формулу для функции потерь и возьмём производную:\n",
        "$$\\frac{\\partial L(\\hat{y})}{ \\partial W_1} = \\sum_{i = 1}^{N} \\frac{\\partial (( \\hat{y}_{i} - y_{i} )^{2})}{\\partial \\hat{y_i}} \\times \\frac{\\partial \\hat{y_i}}{\\partial W_1}  =  \n",
        "\\sum_{i = 1}^{N} 2 (\\hat{y_i} - y) \\times x_{i1} $$\n",
        "\n",
        "\n",
        "В формуле есть суммирование по всем строчкам $X$ ($x_i$ это $i$-ая строчка X, в которой хранятся признаки для $i$-го наблюдения), в коде ему соответствует внешний цикл, итерирующийся по всем наблюдениям. Внутренний цикл нужен для получения производных по всем весам $W_i$, которых в общем случае может быть произвольное количество.\n",
        "\n",
        "\n",
        "В итоге выполнения кода \n",
        "$$w\\_grad = (\\frac{\\partial L(\\hat{y})}{\\partial W_1} , \\frac{\\partial L(\\hat{y})}{\\partial W_2}, \\frac{\\partial L(\\hat{y})}{\\partial W_3} ,...) = \\nabla L$$ \n",
        "\n",
        "Для обновления весов мы вычитаем градиент, передвигаясь в направлении скорейшего убывания функции.\n",
        "$$W = W - lr \\cdot \\nabla L$$"
      ]
    },
    {
      "cell_type": "markdown",
      "metadata": {
        "id": "bxys5OMESQEN"
      },
      "source": [
        "### Получение данных"
      ]
    },
    {
      "cell_type": "code",
      "metadata": {
        "id": "GvGNqv-QhFCq"
      },
      "source": [
        "def generate_data(range_, a, b, std, num_points=100):\n",
        "    \"\"\"Генерирует данные в заданном промежутке, которые подчиняются зависимости y = a*x + b + е,\n",
        "    где е - нормально распределено со стандартным отклонением std и нулевым средним.\"\"\"\n",
        "    X_train = np.random.random(num_points) * (range_[1] - range_[0]) + range_[0]\n",
        "    y_train = a * X_train + b + np.random.normal(0, std, size=X_train.shape)\n",
        "    \n",
        "    return X_train, y_train"
      ],
      "execution_count": 3,
      "outputs": []
    },
    {
      "cell_type": "code",
      "metadata": {
        "id": "kfjNWvxPSQEO",
        "outputId": "5bcbe541-1aeb-46ea-db6e-1ab2f461967f",
        "colab": {
          "base_uri": "https://localhost:8080/",
          "height": 203
        }
      },
      "source": [
        "# Зададим параметры для искусственных данных\n",
        "real_a = 0.34\n",
        "real_b = 13.7\n",
        "real_std = 7\n",
        "\n",
        "# Генерируем данные для промежутка от 0 до 150 с параметрами, которые мы задали выше\n",
        "X_train, y_train = generate_data([0, 150], real_a, real_b, real_std)\n",
        "\n",
        "# просто выведем табличку с данными\n",
        "pd.DataFrame({'X': X_train, 'Y': y_train}).head()"
      ],
      "execution_count": 4,
      "outputs": [
        {
          "output_type": "execute_result",
          "data": {
            "text/html": [
              "<div>\n",
              "<style scoped>\n",
              "    .dataframe tbody tr th:only-of-type {\n",
              "        vertical-align: middle;\n",
              "    }\n",
              "\n",
              "    .dataframe tbody tr th {\n",
              "        vertical-align: top;\n",
              "    }\n",
              "\n",
              "    .dataframe thead th {\n",
              "        text-align: right;\n",
              "    }\n",
              "</style>\n",
              "<table border=\"1\" class=\"dataframe\">\n",
              "  <thead>\n",
              "    <tr style=\"text-align: right;\">\n",
              "      <th></th>\n",
              "      <th>X</th>\n",
              "      <th>Y</th>\n",
              "    </tr>\n",
              "  </thead>\n",
              "  <tbody>\n",
              "    <tr>\n",
              "      <th>0</th>\n",
              "      <td>113.759678</td>\n",
              "      <td>42.693013</td>\n",
              "    </tr>\n",
              "    <tr>\n",
              "      <th>1</th>\n",
              "      <td>49.420430</td>\n",
              "      <td>42.933288</td>\n",
              "    </tr>\n",
              "    <tr>\n",
              "      <th>2</th>\n",
              "      <td>110.956263</td>\n",
              "      <td>52.338341</td>\n",
              "    </tr>\n",
              "    <tr>\n",
              "      <th>3</th>\n",
              "      <td>11.409566</td>\n",
              "      <td>18.123294</td>\n",
              "    </tr>\n",
              "    <tr>\n",
              "      <th>4</th>\n",
              "      <td>131.919096</td>\n",
              "      <td>56.660597</td>\n",
              "    </tr>\n",
              "  </tbody>\n",
              "</table>\n",
              "</div>"
            ],
            "text/plain": [
              "            X          Y\n",
              "0  113.759678  42.693013\n",
              "1   49.420430  42.933288\n",
              "2  110.956263  52.338341\n",
              "3   11.409566  18.123294\n",
              "4  131.919096  56.660597"
            ]
          },
          "metadata": {
            "tags": []
          },
          "execution_count": 4
        }
      ]
    },
    {
      "cell_type": "code",
      "metadata": {
        "id": "uyjHOvSuSQEY",
        "outputId": "919ef553-1f07-4bfb-dc44-fa48fba5581a",
        "colab": {
          "base_uri": "https://localhost:8080/",
          "height": 265
        }
      },
      "source": [
        "plt.scatter(X_train, y_train, c='black')\n",
        "plt.plot(X_train, 0.34*X_train+13.7)\n",
        "plt.show()"
      ],
      "execution_count": 5,
      "outputs": [
        {
          "output_type": "display_data",
          "data": {
            "image/png": "[encoded data removed]",
            "text/plain": [
              "<Figure size 432x288 with 1 Axes>"
            ]
          },
          "metadata": {
            "tags": [],
            "needs_background": "light"
          }
        }
      ]
    },
    {
      "cell_type": "markdown",
      "metadata": {
        "id": "OSsVqF20SQEj"
      },
      "source": [
        "### Решение с помощью линейной алгебры"
      ]
    },
    {
      "cell_type": "code",
      "metadata": {
        "id": "rqMulvKhSQEk"
      },
      "source": [
        "# Используем функцию, написанную выше, чтобы найти W и b, с помощтю метода наименьших квадратов\n",
        "solve_weights(X_train.reshape(-1, 1), y_train)"
      ],
      "execution_count": 6,
      "outputs": []
    },
    {
      "cell_type": "code",
      "metadata": {
        "id": "JnVSSMNGSQEo",
        "outputId": "2c117887-8b80-4f49-a16e-beb18d12bbb5",
        "colab": {
          "base_uri": "https://localhost:8080/",
          "height": 35
        }
      },
      "source": [
        "# Полученные веса лежат в глобальных переменных, выведем их\n",
        "W, b"
      ],
      "execution_count": 7,
      "outputs": [
        {
          "output_type": "execute_result",
          "data": {
            "text/plain": [
              "(array([0.32665852]), array([15.28729524]))"
            ]
          },
          "metadata": {
            "tags": []
          },
          "execution_count": 7
        }
      ]
    },
    {
      "cell_type": "markdown",
      "metadata": {
        "id": "NBwYctcZhFDR"
      },
      "source": [
        "Полученные веса очень похожи на те, которые мы задавали при генерации данных. Значит модель получилась хорошей."
      ]
    },
    {
      "cell_type": "code",
      "metadata": {
        "id": "T8pcThvvSQEt",
        "outputId": "9182a8d7-0b59-4322-e318-a29a2aefbb97",
        "colab": {
          "base_uri": "https://localhost:8080/",
          "height": 265
        }
      },
      "source": [
        "# Выведем данные, истинную зависимость и полученную нами с помощью метода наименьших квадратов\n",
        "plt.scatter(X_train, y_train, c='r')\n",
        "plt.plot(X_train, 0.34*X_train+13.7)\n",
        "plt.plot(X_train, np.squeeze(X_train.reshape(-1, 1) @ W + b.reshape(-1, 1)))\n",
        "plt.show()"
      ],
      "execution_count": 8,
      "outputs": [
        {
          "output_type": "display_data",
          "data": {
            "image/png": "[encoded data removed]",
            "text/plain": [
              "<Figure size 432x288 with 1 Axes>"
            ]
          },
          "metadata": {
            "tags": [],
            "needs_background": "light"
          }
        }
      ]
    },
    {
      "cell_type": "markdown",
      "metadata": {
        "id": "7MTk_FR2SQEy"
      },
      "source": [
        "### Решение с помощью градиентного спуска"
      ]
    },
    {
      "cell_type": "code",
      "metadata": {
        "id": "m850g9haSQE1"
      },
      "source": [
        "# Найдем параметры с помощью градиентного спуска\n",
        "# чтобы проследить за обучением, мы записываем значение функции ошибки на каждом шаге и после выводим\n",
        "losses = grad_descent(X_train.reshape(-1, 1), y_train, 1e-9, 15000)"
      ],
      "execution_count": 9,
      "outputs": []
    },
    {
      "cell_type": "code",
      "metadata": {
        "id": "25dgBfNuSQE9",
        "outputId": "4792df10-b719-4053-d6b8-c33fff6abe28",
        "colab": {
          "base_uri": "https://localhost:8080/",
          "height": 35
        }
      },
      "source": [
        "# Полученные веса лежат в глобальных переменных, выведем их\n",
        "W, b"
      ],
      "execution_count": 10,
      "outputs": [
        {
          "output_type": "execute_result",
          "data": {
            "text/plain": [
              "(array([0.47813321]), array([0.3385337]))"
            ]
          },
          "metadata": {
            "tags": []
          },
          "execution_count": 10
        }
      ]
    },
    {
      "cell_type": "markdown",
      "metadata": {
        "id": "9-3mvFTRhFEV"
      },
      "source": [
        "Веса модели получились не похожи, на то, что мы задавали при генерации данных. Модель намного хуже.\n",
        "\n",
        "Стоит отметить, что хуже всего был подобран свободный член b, это связано с тем, что данные не нормализованы и параметры a и b имеют очень разные модули, а шаги, которые делает градиентный спуск для обоих параметров одного порядка. Это приводит к тому, что меньший по модулю параметр a быстро подбирается, а параметр почти b перестает изменяться."
      ]
    },
    {
      "cell_type": "code",
      "metadata": {
        "id": "Hhop71KlSQFB",
        "outputId": "89719f32-3038-431b-d5bd-134a538793c5",
        "colab": {
          "base_uri": "https://localhost:8080/",
          "height": 287
        }
      },
      "source": [
        "# Выведем график функции потерь \n",
        "plt.plot(losses), losses[-1]"
      ],
      "execution_count": 11,
      "outputs": [
        {
          "output_type": "execute_result",
          "data": {
            "text/plain": [
              "([<matplotlib.lines.Line2D at 0x7f38833d3f60>], 99.38329987263914)"
            ]
          },
          "metadata": {
            "tags": []
          },
          "execution_count": 11
        },
        {
          "output_type": "display_data",
          "data": {
            "image/png": "[encoded data removed]",
            "text/plain": [
              "<Figure size 432x288 with 1 Axes>"
            ]
          },
          "metadata": {
            "tags": [],
            "needs_background": "light"
          }
        }
      ]
    },
    {
      "cell_type": "code",
      "metadata": {
        "id": "ItCyBwfwSQFH",
        "outputId": "4e98aecf-0722-4ebe-bd8c-bc5fe43b1c60",
        "colab": {
          "base_uri": "https://localhost:8080/",
          "height": 265
        }
      },
      "source": [
        "# Выведем данные, истинную зависимость и полученную нами\n",
        "plt.scatter(X_train, y_train, c='r')\n",
        "plt.plot(X_train, real_a * X_train + real_b)\n",
        "plt.plot(X_train, np.squeeze(X_train.reshape(-1, 1) @ W + b.reshape(-1, 1)))\n",
        "plt.show()"
      ],
      "execution_count": 12,
      "outputs": [
        {
          "output_type": "display_data",
          "data": {
            "image/png": "[encoded data removed]",
            "text/plain": [
              "<Figure size 432x288 with 1 Axes>"
            ]
          },
          "metadata": {
            "tags": [],
            "needs_background": "light"
          }
        }
      ]
    },
    {
      "cell_type": "markdown",
      "metadata": {
        "id": "edEx8RuJhFEw"
      },
      "source": [
        "Градиентный спуск восстановил зависимость хуже, чем метод наименьших квадратов, это вызвано тем, что \n",
        "* данные не **нормализованы** (об этом позже).\n",
        "* в **методе наименьших квадратов** мы получали решение **аналитически**, поэтому оно гарантировано является наилучшим, в то время как градиентный спуск находит решение лишь приближенно. \n",
        "\n",
        "Возникает вопрос, зачем использовать **градиентный спуск**, если он хуже **аналитических** мтеодов? Дело в том, что оптимизация большого количества весов в **нейронных сетях** сликшом сложная задача, которая не может быть решена **аналитически**."
      ]
    },
    {
      "cell_type": "markdown",
      "metadata": {
        "id": "e6VOEaY2SQFO"
      },
      "source": [
        "### Данные посложнее"
      ]
    },
    {
      "cell_type": "markdown",
      "metadata": {
        "id": "7rNOb6iuJLB-"
      },
      "source": [
        "Загрузим с помощью **pandas** реальные данные и попробуем найти параметры зависимости с помощью метода наименьших квадратов и градиентного спуска, как и в предыдущем примере (так как наш код универсален, нам просто нужно просто вызвать те же функции)."
      ]
    },
    {
      "cell_type": "code",
      "metadata": {
        "id": "OBMxMynm2NmV",
        "outputId": "061fe195-d95e-44bf-b406-f029d3854a5d",
        "colab": {
          "base_uri": "https://localhost:8080/",
          "height": 35
        }
      },
      "source": [
        "from google.colab import drive\n",
        "drive.mount('/content/gdrive')"
      ],
      "execution_count": 15,
      "outputs": [
        {
          "output_type": "stream",
          "text": [
            "Mounted at /content/gdrive\n"
          ],
          "name": "stdout"
        }
      ]
    },
    {
      "cell_type": "code",
      "metadata": {
        "id": "cG4n12xvSQFP"
      },
      "source": [
        "# df = pd.read_csv(\"./data.csv\")\n",
        "df = pd.read_csv(\"/content/gdrive/Shared drives/DigitalHome I UnlimitedDisc 3/Alex/datasets/ML/data.csv\")"
      ],
      "execution_count": 16,
      "outputs": []
    },
    {
      "cell_type": "code",
      "metadata": {
        "id": "uGCTic-qSQFV",
        "outputId": "f7f80521-2b53-47eb-ca5c-93c9eaac2232",
        "colab": {
          "base_uri": "https://localhost:8080/",
          "height": 203
        }
      },
      "source": [
        "# так как данные многомерные, мы не можем построить график, как в предыдущем примере, \n",
        "# чтобы увидеть зависимость глазами. Поэтому мы просто выведем первые строки таблицы.\n",
        "df.head()"
      ],
      "execution_count": 17,
      "outputs": [
        {
          "output_type": "execute_result",
          "data": {
            "text/html": [
              "<div>\n",
              "<style scoped>\n",
              "    .dataframe tbody tr th:only-of-type {\n",
              "        vertical-align: middle;\n",
              "    }\n",
              "\n",
              "    .dataframe tbody tr th {\n",
              "        vertical-align: top;\n",
              "    }\n",
              "\n",
              "    .dataframe thead th {\n",
              "        text-align: right;\n",
              "    }\n",
              "</style>\n",
              "<table border=\"1\" class=\"dataframe\">\n",
              "  <thead>\n",
              "    <tr style=\"text-align: right;\">\n",
              "      <th></th>\n",
              "      <th>Index</th>\n",
              "      <th>A1</th>\n",
              "      <th>A2</th>\n",
              "      <th>A3</th>\n",
              "      <th>A4</th>\n",
              "      <th>B</th>\n",
              "    </tr>\n",
              "  </thead>\n",
              "  <tbody>\n",
              "    <tr>\n",
              "      <th>0</th>\n",
              "      <td>1</td>\n",
              "      <td>75</td>\n",
              "      <td>91</td>\n",
              "      <td>6</td>\n",
              "      <td>85</td>\n",
              "      <td>4815</td>\n",
              "    </tr>\n",
              "    <tr>\n",
              "      <th>1</th>\n",
              "      <td>2</td>\n",
              "      <td>6</td>\n",
              "      <td>48</td>\n",
              "      <td>48</td>\n",
              "      <td>48</td>\n",
              "      <td>234</td>\n",
              "    </tr>\n",
              "    <tr>\n",
              "      <th>2</th>\n",
              "      <td>3</td>\n",
              "      <td>5</td>\n",
              "      <td>60</td>\n",
              "      <td>24</td>\n",
              "      <td>40</td>\n",
              "      <td>160</td>\n",
              "    </tr>\n",
              "    <tr>\n",
              "      <th>3</th>\n",
              "      <td>4</td>\n",
              "      <td>74</td>\n",
              "      <td>48</td>\n",
              "      <td>8</td>\n",
              "      <td>86</td>\n",
              "      <td>4794</td>\n",
              "    </tr>\n",
              "    <tr>\n",
              "      <th>4</th>\n",
              "      <td>5</td>\n",
              "      <td>10</td>\n",
              "      <td>74</td>\n",
              "      <td>70</td>\n",
              "      <td>11</td>\n",
              "      <td>659</td>\n",
              "    </tr>\n",
              "  </tbody>\n",
              "</table>\n",
              "</div>"
            ],
            "text/plain": [
              "   Index  A1  A2  A3  A4     B\n",
              "0      1  75  91   6  85  4815\n",
              "1      2   6  48  48  48   234\n",
              "2      3   5  60  24  40   160\n",
              "3      4  74  48   8  86  4794\n",
              "4      5  10  74  70  11   659"
            ]
          },
          "metadata": {
            "tags": []
          },
          "execution_count": 17
        }
      ]
    },
    {
      "cell_type": "code",
      "metadata": {
        "id": "2VdsqMNFSQFb"
      },
      "source": [
        "# разделим данные на признаки и значения\n",
        "data, label = np.array(df)[:, 1:5], np.array(df)[:, 5]"
      ],
      "execution_count": 18,
      "outputs": []
    },
    {
      "cell_type": "markdown",
      "metadata": {
        "id": "knOBphGnSQFi"
      },
      "source": [
        "### Решение с помощью линейной алгебры"
      ]
    },
    {
      "cell_type": "code",
      "metadata": {
        "id": "eV3TJ92fSQFj"
      },
      "source": [
        "# Используем функцию, написанную выше, чтобы найти W и b, с помощтю метода наименьших квадратов\n",
        "solve_weights(data, label)"
      ],
      "execution_count": 19,
      "outputs": []
    },
    {
      "cell_type": "code",
      "metadata": {
        "id": "0Yfhm4fISQFm",
        "outputId": "ed53808b-64de-4d4f-a323-31c6b42ff8fe",
        "colab": {
          "base_uri": "https://localhost:8080/",
          "height": 52
        }
      },
      "source": [
        "# Полученные веса лежат в глобальных переменных, выведем их\n",
        "W, b"
      ],
      "execution_count": 20,
      "outputs": [
        {
          "output_type": "execute_result",
          "data": {
            "text/plain": [
              "(array([ 3.29211245,  6.54097099, 24.3858116 , -7.47819654]),\n",
              " array([2030.27050104]))"
            ]
          },
          "metadata": {
            "tags": []
          },
          "execution_count": 20
        }
      ]
    },
    {
      "cell_type": "code",
      "metadata": {
        "id": "KVag7u66SQFq",
        "outputId": "1e19cb44-a688-4770-db7b-75adeb053324",
        "colab": {
          "base_uri": "https://localhost:8080/",
          "height": 35
        }
      },
      "source": [
        "# Выведем значение функции ошибки, чтобы позже сравнить с результатом градиентного спуска\n",
        "mse(predict(data), label)"
      ],
      "execution_count": 21,
      "outputs": [
        {
          "output_type": "execute_result",
          "data": {
            "text/plain": [
              "3731984.960573224"
            ]
          },
          "metadata": {
            "tags": []
          },
          "execution_count": 21
        }
      ]
    },
    {
      "cell_type": "markdown",
      "metadata": {
        "id": "gJqoPz4RSQFt"
      },
      "source": [
        "### Решение с помощью градиентного спуска"
      ]
    },
    {
      "cell_type": "code",
      "metadata": {
        "id": "cFXllJyQSQFv"
      },
      "source": [
        "# Найдем параметры с помощью градиентного спуска\n",
        "# чтобы проследить за обучением, мы записываем значение функции ошибки на каждом шаге и после выводим\n",
        "losses = grad_descent(data, label, 1e-9, 500)"
      ],
      "execution_count": 22,
      "outputs": []
    },
    {
      "cell_type": "code",
      "metadata": {
        "id": "27q36bXrSQF1",
        "outputId": "132e7b49-2ec2-4948-fffb-23403cd87153",
        "colab": {
          "base_uri": "https://localhost:8080/",
          "height": 52
        }
      },
      "source": [
        "# Полученные веса лежат в глобальных переменных, выведем их\n",
        "W, b"
      ],
      "execution_count": 23,
      "outputs": [
        {
          "output_type": "execute_result",
          "data": {
            "text/plain": [
              "(array([11.43275742, 11.75978167, 11.43918047,  6.94476294]),\n",
              " array([0.687535]))"
            ]
          },
          "metadata": {
            "tags": []
          },
          "execution_count": 23
        }
      ]
    },
    {
      "cell_type": "code",
      "metadata": {
        "id": "0MzZJdjQSQF5",
        "outputId": "3427f69c-d81d-417c-8539-85a2f037cee5",
        "colab": {
          "base_uri": "https://localhost:8080/",
          "height": 293
        }
      },
      "source": [
        "# Выведем график функции потерь \n",
        "plt.plot(losses), losses[-1]"
      ],
      "execution_count": 24,
      "outputs": [
        {
          "output_type": "execute_result",
          "data": {
            "text/plain": [
              "([<matplotlib.lines.Line2D at 0x7f38833fd358>], 5532399.172092563)"
            ]
          },
          "metadata": {
            "tags": []
          },
          "execution_count": 24
        },
        {
          "output_type": "display_data",
          "data": {
            "image/png": "[encoded data removed]",
            "text/plain": [
              "<Figure size 432x288 with 1 Axes>"
            ]
          },
          "metadata": {
            "tags": [],
            "needs_background": "light"
          }
        }
      ]
    },
    {
      "cell_type": "code",
      "metadata": {
        "id": "GqmUW4-lLPq_",
        "outputId": "e6afcacd-ce95-4271-dfbf-075f24918742",
        "colab": {
          "base_uri": "https://localhost:8080/",
          "height": 35
        }
      },
      "source": [
        "# Выведем значение функции ошибки\n",
        "mse(predict(data), label)"
      ],
      "execution_count": 25,
      "outputs": [
        {
          "output_type": "execute_result",
          "data": {
            "text/plain": [
              "5531115.7674285425"
            ]
          },
          "metadata": {
            "tags": []
          },
          "execution_count": 25
        }
      ]
    },
    {
      "cell_type": "markdown",
      "metadata": {
        "id": "Ws5k-CQChFFi"
      },
      "source": [
        "Как мы видим, **градиентный спуск** опять нашел значительно более плохое решение. Если нормализовать данные, то **градиентный спуск** будет сходиться лучше и разница будет не такой заметной. \n",
        "\n"
      ]
    },
    {
      "cell_type": "code",
      "metadata": {
        "id": "e2k_TfWeTXzM"
      },
      "source": [
        ""
      ],
      "execution_count": null,
      "outputs": []
    }
  ]
}